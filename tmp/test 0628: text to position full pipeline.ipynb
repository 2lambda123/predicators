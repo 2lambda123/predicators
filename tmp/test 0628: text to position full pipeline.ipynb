{
 "cells": [
  {
   "cell_type": "markdown",
   "source": [
    "# init"
   ],
   "metadata": {
    "collapsed": false
   }
  },
  {
   "cell_type": "code",
   "execution_count": 2,
   "outputs": [],
   "source": [
    "%load_ext autoreload\n",
    "%autoreload 2"
   ],
   "metadata": {
    "collapsed": false,
    "ExecuteTime": {
     "start_time": "2023-07-18T17:18:44.702536Z",
     "end_time": "2023-07-18T17:18:45.345157Z"
    }
   }
  },
  {
   "cell_type": "code",
   "execution_count": 3,
   "outputs": [
    {
     "name": "stdout",
     "output_type": "stream",
     "text": [
      "/home/lzhao/miniconda3/bin/./python\r\n"
     ]
    }
   ],
   "source": [
    "!which python"
   ],
   "metadata": {
    "collapsed": false,
    "ExecuteTime": {
     "start_time": "2023-07-18T17:18:44.717342Z",
     "end_time": "2023-07-18T17:18:45.754897Z"
    }
   }
  },
  {
   "cell_type": "code",
   "execution_count": 3,
   "outputs": [],
   "source": [],
   "metadata": {
    "collapsed": false,
    "ExecuteTime": {
     "start_time": "2023-07-18T17:18:44.936938Z",
     "end_time": "2023-07-18T17:18:45.759568Z"
    }
   }
  },
  {
   "cell_type": "markdown",
   "source": [
    "# setup"
   ],
   "metadata": {
    "collapsed": false
   }
  },
  {
   "cell_type": "code",
   "execution_count": 4,
   "outputs": [],
   "source": [
    "import os"
   ],
   "metadata": {
    "collapsed": false,
    "ExecuteTime": {
     "start_time": "2023-07-18T17:18:44.937111Z",
     "end_time": "2023-07-18T17:18:45.759912Z"
    }
   }
  },
  {
   "cell_type": "code",
   "execution_count": 5,
   "outputs": [],
   "source": [
    "# set up Spot username and password\n",
    "os.environ['BOSDYN_CLIENT_USERNAME'] = 'user'\n",
    "os.environ['BOSDYN_CLIENT_PASSWORD'] = 'bbbdddaaaiii'"
   ],
   "metadata": {
    "collapsed": false,
    "ExecuteTime": {
     "start_time": "2023-07-18T17:18:44.937204Z",
     "end_time": "2023-07-18T17:18:45.760008Z"
    }
   }
  },
  {
   "cell_type": "code",
   "execution_count": 6,
   "outputs": [
    {
     "data": {
      "text/plain": "'/home/lzhao/repo/predicators/tmp'"
     },
     "execution_count": 6,
     "metadata": {},
     "output_type": "execute_result"
    }
   ],
   "source": [
    "%pwd"
   ],
   "metadata": {
    "collapsed": false,
    "ExecuteTime": {
     "start_time": "2023-07-18T17:18:44.937291Z",
     "end_time": "2023-07-18T17:18:45.781534Z"
    }
   }
  },
  {
   "cell_type": "code",
   "execution_count": 7,
   "outputs": [
    {
     "name": "stdout",
     "output_type": "stream",
     "text": [
      "/home/lzhao/repo/predicators\n"
     ]
    }
   ],
   "source": [
    "%cd '/home/lzhao/repo/predicators/'"
   ],
   "metadata": {
    "collapsed": false,
    "ExecuteTime": {
     "start_time": "2023-07-18T17:18:44.973964Z",
     "end_time": "2023-07-18T17:18:45.798100Z"
    }
   }
  },
  {
   "cell_type": "code",
   "execution_count": 7,
   "outputs": [],
   "source": [],
   "metadata": {
    "collapsed": false,
    "ExecuteTime": {
     "start_time": "2023-07-18T17:18:44.974069Z",
     "end_time": "2023-07-18T17:18:45.798320Z"
    }
   }
  },
  {
   "cell_type": "markdown",
   "source": [
    "# import for Spot"
   ],
   "metadata": {
    "collapsed": false
   }
  },
  {
   "cell_type": "code",
   "execution_count": 8,
   "outputs": [],
   "source": [
    "import logging\n",
    "import math\n",
    "import signal\n",
    "import sys\n",
    "import threading\n",
    "import time\n",
    "\n",
    "import bosdyn.client\n",
    "import bosdyn.client\n",
    "import bosdyn.client.util\n",
    "import bosdyn.client.util\n",
    "import cv2\n",
    "import numpy as np\n",
    "from PIL import Image\n",
    "from bosdyn.api import geometry_pb2, image_pb2, world_object_pb2\n",
    "from bosdyn.api.geometry_pb2 import Vec2\n",
    "from bosdyn.api.spot import robot_command_pb2 as spot_command_pb2\n",
    "from bosdyn.client import RpcError, create_standard_sdk, math_helpers\n",
    "from bosdyn.client.frame_helpers import (BODY_FRAME_NAME, VISION_FRAME_NAME, get_a_tform_b, get_vision_tform_body)\n",
    "from bosdyn.client.image import ImageClient, build_image_request\n",
    "from bosdyn.client.lease import LeaseClient\n",
    "from bosdyn.client.math_helpers import Quat\n",
    "from bosdyn.client.power import PowerClient\n",
    "from bosdyn.client.robot_command import RobotCommandBuilder, RobotCommandClient, blocking_stand\n",
    "from bosdyn.client.robot_id import RobotIdClient, version_tuple\n",
    "from bosdyn.client.robot_state import RobotStateClient\n",
    "from bosdyn.client.world_object import WorldObjectClient, send_add_mutation_requests\n",
    "from bosdyn.util import now_timestamp, seconds_to_duration\n",
    "\n",
    "# from wasd import _setup_logging\n",
    "\n",
    "# pylint: disable=no-member\n",
    "LOGGER = logging.getLogger()\n",
    "\n",
    "# (from fiducial_follow.py)\n",
    "# Use this length to make sure we're commanding the head of the robot\n",
    "# to a position instead of the center.\n",
    "BODY_LENGTH = 1.1\n",
    "\n",
    "# (from user_nogo_regions.py)\n",
    "# Mobility command end time parameter.\n",
    "_SECONDS_FULL = 10\n",
    "\n",
    "# Dimensions of the box obstacle.  Frame for this obstacle is defined by the user when making the\n",
    "# world object proto.\n",
    "BOX_LEN_X = 0.2\n",
    "BOX_LEN_Y_LONG = 10\n",
    "BOX_LEN_Y_SHORT = 0.5"
   ],
   "metadata": {
    "collapsed": false,
    "ExecuteTime": {
     "start_time": "2023-07-18T17:18:44.974146Z",
     "end_time": "2023-07-18T17:18:45.887120Z"
    }
   }
  },
  {
   "cell_type": "code",
   "execution_count": 8,
   "outputs": [],
   "source": [],
   "metadata": {
    "collapsed": false,
    "ExecuteTime": {
     "start_time": "2023-07-18T17:18:45.322958Z",
     "end_time": "2023-07-18T17:18:45.889748Z"
    }
   }
  },
  {
   "cell_type": "code",
   "execution_count": 8,
   "outputs": [],
   "source": [],
   "metadata": {
    "collapsed": false,
    "ExecuteTime": {
     "start_time": "2023-07-18T17:18:45.323037Z",
     "end_time": "2023-07-18T17:18:45.889955Z"
    }
   }
  },
  {
   "cell_type": "code",
   "execution_count": 8,
   "outputs": [],
   "source": [],
   "metadata": {
    "collapsed": false,
    "ExecuteTime": {
     "start_time": "2023-07-18T17:18:45.323091Z",
     "end_time": "2023-07-18T17:18:45.890049Z"
    }
   }
  },
  {
   "cell_type": "markdown",
   "source": [
    "# steps\n",
    "\n",
    "- get hand RGB-D image\n",
    "- use SAM to segment object\n",
    "- get medium depth of masked region in depth image\n",
    "- compute XYZ position in desired frame"
   ],
   "metadata": {
    "collapsed": false
   }
  },
  {
   "cell_type": "markdown",
   "source": [
    "# get object mask from SAM"
   ],
   "metadata": {
    "collapsed": false
   }
  },
  {
   "cell_type": "code",
   "execution_count": 77,
   "outputs": [],
   "source": [
    "import argparse\n",
    "import io\n",
    "import requests\n",
    "import time\n",
    "\n",
    "import numpy as np\n",
    "import matplotlib.pyplot as plt\n",
    "from PIL import Image\n",
    "\n",
    "\n",
    "def ask_sam(image, classes):\n",
    "    buf = image_to_bytes(image)\n",
    "    r = requests.post(\"http://localhost:5550/predict\",\n",
    "                      files={\"file\": buf},\n",
    "                      data={\"classes\": \",\".join(classes)}\n",
    "                     )\n",
    "\n",
    "    if r.status_code != 200:\n",
    "        assert False, r.content\n",
    "\n",
    "    with io.BytesIO(r.content) as f:\n",
    "        arr = np.load(f, allow_pickle=True)\n",
    "        boxes = arr['boxes']\n",
    "        classes = arr['classes']\n",
    "        masks = arr['masks']\n",
    "        scores = arr['scores']\n",
    "\n",
    "    return dict(boxes=boxes, classes=classes, masks=masks, scores=scores)\n",
    "\n",
    "\n",
    "def image_to_bytes(img):\n",
    "\n",
    "    buf = io.BytesIO()\n",
    "    img.save(buf, format=\"PNG\")\n",
    "    buf.seek(0)\n",
    "    return buf\n",
    "\n",
    "\n",
    "def visualize_output(im, masks, input_boxes, classes, scores):\n",
    "    plt.figure(figsize=(10, 10))\n",
    "    plt.imshow(im)\n",
    "    # im_rgb = cv2.cvtColor(im,cv2.COLOR_BGR2RGB)\n",
    "    # im_rgb = im[..., ::-1]\n",
    "    # plt.imshow(im_rgb)\n",
    "    for mask in masks:\n",
    "        show_mask(mask, plt.gca(), random_color=True)\n",
    "    for box, class_name, score in zip(input_boxes, classes, scores):\n",
    "        show_box(box, plt.gca())\n",
    "        x, y = box[:2]\n",
    "        plt.gca().text(x, y - 5, class_name + f': {score:.2f}', color='white', fontsize=12, fontweight='bold', bbox=dict(facecolor='green', edgecolor='green', alpha=0.5))\n",
    "    plt.axis('off')\n",
    "    plt.show()\n",
    "\n",
    "\n",
    "def show_mask(mask, ax, random_color=False):\n",
    "    if random_color:\n",
    "        color = np.concatenate([np.random.random(3), np.array([0.6])], axis=0)\n",
    "    else:\n",
    "        color = np.array([30/255, 144/255, 255/255, 0.6])\n",
    "    h, w = mask.shape[-2:]\n",
    "    mask_image = mask.reshape(h, w, 1) * color.reshape(1, 1, -1)\n",
    "    ax.imshow(mask_image)\n",
    "\n",
    "\n",
    "def show_box(box, ax):\n",
    "    x0, y0 = box[0], box[1]\n",
    "    w, h = box[2] - box[0], box[3] - box[1]\n",
    "    ax.add_patch(plt.Rectangle((x0, y0), w, h, edgecolor='green', facecolor=(0,0,0,0), lw=2))\n",
    "\n",
    "\n",
    "def get_mask(image_in, classes):\n",
    "\n",
    "    if isinstance(image_in, str):\n",
    "        image = Image.open(image_in)\n",
    "    elif isinstance(image_in, np.ndarray):\n",
    "        image = Image.fromarray(image_in)\n",
    "    else:\n",
    "        raise NotImplementedError\n",
    "\n",
    "    d = ask_sam(image, classes)\n",
    "    visualize_output(image, d[\"masks\"], d[\"boxes\"], d[\"classes\"], d[\"scores\"])\n",
    "\n",
    "    return d"
   ],
   "metadata": {
    "collapsed": false,
    "ExecuteTime": {
     "start_time": "2023-07-18T17:32:35.001933Z",
     "end_time": "2023-07-18T17:32:35.147095Z"
    }
   }
  },
  {
   "cell_type": "code",
   "execution_count": 78,
   "outputs": [],
   "source": [
    "image_path = './tmp/1.png'\n",
    "classes = ['mug']"
   ],
   "metadata": {
    "collapsed": false,
    "ExecuteTime": {
     "start_time": "2023-07-18T17:32:35.140186Z",
     "end_time": "2023-07-18T17:32:35.191077Z"
    }
   }
  },
  {
   "cell_type": "code",
   "execution_count": 79,
   "outputs": [
    {
     "data": {
      "text/plain": "'/home/lzhao/repo/predicators'"
     },
     "execution_count": 79,
     "metadata": {},
     "output_type": "execute_result"
    }
   ],
   "source": [
    "%pwd"
   ],
   "metadata": {
    "collapsed": false,
    "ExecuteTime": {
     "start_time": "2023-07-18T17:32:35.318933Z",
     "end_time": "2023-07-18T17:32:35.320508Z"
    }
   }
  },
  {
   "cell_type": "code",
   "execution_count": 50,
   "outputs": [],
   "source": [
    "# res = get_mask(image_in=image_path, classes=classes)"
   ],
   "metadata": {
    "collapsed": false,
    "ExecuteTime": {
     "start_time": "2023-07-18T17:30:57.638965Z",
     "end_time": "2023-07-18T17:30:57.639212Z"
    }
   }
  },
  {
   "cell_type": "code",
   "execution_count": 51,
   "outputs": [],
   "source": [
    "# plt.imshow(res['masks'][0][0])"
   ],
   "metadata": {
    "collapsed": false,
    "ExecuteTime": {
     "start_time": "2023-07-18T17:30:57.778933Z",
     "end_time": "2023-07-18T17:30:57.779308Z"
    }
   }
  },
  {
   "cell_type": "code",
   "execution_count": 51,
   "outputs": [],
   "source": [],
   "metadata": {
    "collapsed": false,
    "ExecuteTime": {
     "start_time": "2023-07-18T17:30:57.935055Z",
     "end_time": "2023-07-18T17:30:57.940842Z"
    }
   }
  },
  {
   "cell_type": "code",
   "execution_count": 51,
   "outputs": [],
   "source": [],
   "metadata": {
    "collapsed": false,
    "ExecuteTime": {
     "start_time": "2023-07-18T17:30:58.055620Z",
     "end_time": "2023-07-18T17:30:58.103107Z"
    }
   }
  },
  {
   "cell_type": "markdown",
   "source": [
    "# get depth image from robot"
   ],
   "metadata": {
    "collapsed": false
   }
  },
  {
   "cell_type": "code",
   "execution_count": 52,
   "outputs": [],
   "source": [
    "import argparse\n",
    "import sys\n",
    "\n",
    "import cv2\n",
    "import numpy as np\n",
    "import matplotlib.pyplot as plt\n",
    "from scipy import ndimage\n",
    "\n",
    "import bosdyn.client\n",
    "import bosdyn.client.util\n",
    "from bosdyn.api import image_pb2\n",
    "from bosdyn.client.image import ImageClient, build_image_request, _depth_image_data_to_numpy, \\\n",
    "    _depth_image_get_valid_indices\n",
    "\n",
    "\n",
    "ROTATION_ANGLE = {\n",
    "    'back_fisheye_image': 0,\n",
    "    'frontleft_fisheye_image': -78,\n",
    "    'frontright_fisheye_image': -102,\n",
    "    'left_fisheye_image': 0,\n",
    "    'right_fisheye_image': 180\n",
    "}"
   ],
   "metadata": {
    "collapsed": false,
    "ExecuteTime": {
     "start_time": "2023-07-18T17:30:58.349037Z",
     "end_time": "2023-07-18T17:30:58.394455Z"
    }
   }
  },
  {
   "cell_type": "code",
   "execution_count": 53,
   "outputs": [],
   "source": [
    "def pixel_format_type_strings():\n",
    "    names = image_pb2.Image.PixelFormat.keys()\n",
    "    return names[1:]\n",
    "\n",
    "\n",
    "def pixel_format_string_to_enum(enum_string):\n",
    "    return dict(image_pb2.Image.PixelFormat.items()).get(enum_string)\n",
    "\n",
    "\n",
    "def depth_image_to_pointcloud_custom(image_response, masks=None, min_dist=0, max_dist=1000):\n",
    "    \"\"\"Converts a depth image into a point cloud using the camera intrinsics. The point\n",
    "    cloud is represented as a numpy array of (x,y,z) values.  Requests can optionally filter\n",
    "    the results based on the points distance to the image plane. A depth image is represented\n",
    "    with an unsigned 16 bit integer and a scale factor to convert that distance to meters. In\n",
    "    addition, values of zero and 2^16 (uint 16 maximum) are used to represent invalid indices.\n",
    "    A (min_dist * depth_scale) value that casts to an integer value <=0 will be assigned a\n",
    "    value of 1 (the minimum representational distance). Similarly, a (max_dist * depth_scale)\n",
    "    value that casts to >= 2^16 will be assigned a value of 2^16 - 1 (the maximum\n",
    "    representational distance).\n",
    "\n",
    "    Args:\n",
    "        image_response (image_pb2.ImageResponse): An ImageResponse containing a depth image.\n",
    "        min_dist (double): All points in the returned point cloud will be greater than min_dist from the image plane [meters].\n",
    "        max_dist (double): All points in the returned point cloud will be less than max_dist from the image plane [meters].\n",
    "\n",
    "    Returns:\n",
    "        A numpy stack of (x,y,z) values representing depth image as a point cloud expressed in the sensor frame.\n",
    "    \"\"\"\n",
    "\n",
    "    if image_response.source.image_type != image_pb2.ImageSource.IMAGE_TYPE_DEPTH:\n",
    "        raise ValueError('requires an image_type of IMAGE_TYPE_DEPTH.')\n",
    "\n",
    "    if image_response.shot.image.pixel_format != image_pb2.Image.PIXEL_FORMAT_DEPTH_U16:\n",
    "        raise ValueError(\n",
    "            'IMAGE_TYPE_DEPTH with an unsupported format, requires PIXEL_FORMAT_DEPTH_U16.')\n",
    "\n",
    "    if not image_response.source.HasField('pinhole'):\n",
    "        raise ValueError('Requires a pinhole camera_model.')\n",
    "\n",
    "    source_rows = image_response.source.rows\n",
    "    source_cols = image_response.source.cols\n",
    "    fx = image_response.source.pinhole.intrinsics.focal_length.x\n",
    "    fy = image_response.source.pinhole.intrinsics.focal_length.y\n",
    "    cx = image_response.source.pinhole.intrinsics.principal_point.x\n",
    "    cy = image_response.source.pinhole.intrinsics.principal_point.y\n",
    "    depth_scale = image_response.source.depth_scale\n",
    "\n",
    "    # Convert the proto representation into a numpy array.\n",
    "    depth_array = _depth_image_data_to_numpy(image_response)\n",
    "    # print(depth_array.shape)\n",
    "\n",
    "    # Determine which indices have valid data in the user requested range.\n",
    "    valid_inds = _depth_image_get_valid_indices(depth_array, np.rint(min_dist * depth_scale),\n",
    "                                                np.rint(max_dist * depth_scale))\n",
    "\n",
    "    if masks is not None:\n",
    "        valid_inds = valid_inds & masks\n",
    "\n",
    "    # Compute the valid data.\n",
    "    rows, cols = np.mgrid[0:source_rows, 0:source_cols]\n",
    "    depth_array = depth_array[valid_inds]\n",
    "    rows = rows[valid_inds]\n",
    "    cols = cols[valid_inds]\n",
    "\n",
    "    # Convert the valid distance data to (x,y,z) values expressed in the sensor frame.\n",
    "    z = depth_array / depth_scale\n",
    "    x = np.multiply(z, (cols - cx)) / fx\n",
    "    y = np.multiply(z, (rows - cy)) / fy\n",
    "    return np.vstack((x, y, z)).T, valid_inds\n",
    "\n",
    "\n",
    "def process_image_response(image, options):\n",
    "    num_bytes = 1  # Assume a default of 1 byte encodings.\n",
    "    if image.shot.image.pixel_format == image_pb2.Image.PIXEL_FORMAT_DEPTH_U16:\n",
    "        dtype = np.uint16\n",
    "        extension = \".png\"\n",
    "    else:\n",
    "        if image.shot.image.pixel_format == image_pb2.Image.PIXEL_FORMAT_RGB_U8:\n",
    "            num_bytes = 3\n",
    "        elif image.shot.image.pixel_format == image_pb2.Image.PIXEL_FORMAT_RGBA_U8:\n",
    "            num_bytes = 4\n",
    "        elif image.shot.image.pixel_format == image_pb2.Image.PIXEL_FORMAT_GREYSCALE_U8:\n",
    "            num_bytes = 1\n",
    "        elif image.shot.image.pixel_format == image_pb2.Image.PIXEL_FORMAT_GREYSCALE_U16:\n",
    "            num_bytes = 2\n",
    "        dtype = np.uint8\n",
    "        extension = \".jpg\"\n",
    "\n",
    "    img = np.frombuffer(image.shot.image.data, dtype=dtype)\n",
    "    if image.shot.image.format == image_pb2.Image.FORMAT_RAW:\n",
    "        try:\n",
    "            # Attempt to reshape array into a RGB rows X cols shape.\n",
    "            img = img.reshape((image.shot.image.rows, image.shot.image.cols, num_bytes))\n",
    "        except ValueError:\n",
    "            # Unable to reshape the image data, trying a regular decode.\n",
    "            img = cv2.imdecode(img, -1)\n",
    "    else:\n",
    "        img = cv2.imdecode(img, -1)\n",
    "\n",
    "    if options.auto_rotate:\n",
    "        img = ndimage.rotate(img, ROTATION_ANGLE[image.source.name])\n",
    "\n",
    "    return img, extension"
   ],
   "metadata": {
    "collapsed": false,
    "ExecuteTime": {
     "start_time": "2023-07-18T17:30:58.603055Z",
     "end_time": "2023-07-18T17:30:58.613841Z"
    }
   }
  },
  {
   "cell_type": "code",
   "execution_count": 54,
   "outputs": [],
   "source": [
    "def get_hand_img(options):\n",
    "    # Create robot object with an image client.\n",
    "    sdk = bosdyn.client.create_standard_sdk('image_capture')\n",
    "    robot = sdk.create_robot(options.hostname)\n",
    "    bosdyn.client.util.authenticate(robot)\n",
    "    robot.sync_with_directory()\n",
    "    robot.time_sync.wait_for_sync()\n",
    "\n",
    "    image_client = robot.ensure_client(options.image_service)\n",
    "\n",
    "    # image_sources = [\"frontleft_fisheye_image\", \"frontleft_depth_in_visual_frame\"]\n",
    "    image_sources = [\"hand_color_image\", \"hand_depth_in_hand_color_frame\"]\n",
    "\n",
    "    pixel_format = pixel_format_string_to_enum(options.pixel_format)\n",
    "    image_request = [\n",
    "        build_image_request(source, pixel_format=pixel_format)\n",
    "        for source in image_sources\n",
    "    ]\n",
    "    image_responses = image_client.get_image(image_request)\n",
    "\n",
    "    color_img, _ = process_image_response(image_responses[0], options)\n",
    "    print(color_img.shape)\n",
    "    # plt.imshow(color_img)\n",
    "    # plt.show()\n",
    "\n",
    "    x, valid_inds = depth_image_to_pointcloud_custom(image_responses[1])\n",
    "\n",
    "    d = np.sqrt(np.sum(np.square(x), axis=1))\n",
    "    c = (color_img[:, :, ::-1][valid_inds] / 255.).astype(np.float32)\n",
    "    # c = np.tile((color_img[valid_inds] / 255.).astype(np.float32)[:, None], (1, 3))\n",
    "\n",
    "    x = x[d < 2.]\n",
    "    c = c[d < 2.]\n",
    "\n",
    "    print(x.shape, c.shape)\n",
    "\n",
    "    import open3d as o3d\n",
    "    pcd = o3d.geometry.PointCloud()\n",
    "    pcd.points = o3d.utility.Vector3dVector(x)\n",
    "    pcd.colors = o3d.utility.Vector3dVector(c)\n",
    "    # FIXME error: [Open3D WARNING] [DrawGeometries] Failed creating OpenGL window.\n",
    "    # o3d.visualization.draw_geometries([pcd])\n",
    "\n",
    "    res = {\n",
    "        # 'rgb': process_image_response(image_responses[0], args1)[0],\n",
    "        # 'depth': process_image_response(image_responses[1], args1)[0],\n",
    "        # TODO fix BGR to RGB issue\n",
    "        'rgb': process_image_response(image_responses[0], args1)[0][..., ::-1],\n",
    "        'depth': process_image_response(image_responses[1], args1)[0][..., ::-1],\n",
    "    }\n",
    "\n",
    "    return res, image_responses"
   ],
   "metadata": {
    "collapsed": false,
    "ExecuteTime": {
     "start_time": "2023-07-18T17:30:58.771128Z",
     "end_time": "2023-07-18T17:30:58.773934Z"
    }
   }
  },
  {
   "cell_type": "code",
   "execution_count": 66,
   "outputs": [],
   "source": [
    "def get_body_img(options):\n",
    "    # Create robot object with an image client.\n",
    "    sdk = bosdyn.client.create_standard_sdk('image_capture')\n",
    "    robot = sdk.create_robot(options.hostname)\n",
    "    bosdyn.client.util.authenticate(robot)\n",
    "    robot.sync_with_directory()\n",
    "    robot.time_sync.wait_for_sync()\n",
    "\n",
    "    image_client = robot.ensure_client(options.image_service)\n",
    "\n",
    "    # image_sources = [\"frontleft_fisheye_image\", \"frontleft_depth_in_visual_frame\"]\n",
    "    image_sources = [\"hand_color_image\", \"hand_depth_in_hand_color_frame\"]\n",
    "\n",
    "    pixel_format = pixel_format_string_to_enum(options.pixel_format)\n",
    "    image_request = [\n",
    "        build_image_request(image_sources[0], pixel_format=image_pb2.Image.PIXEL_FORMAT_RGB_U8),\n",
    "        build_image_request(image_sources[1], pixel_format=pixel_format)\n",
    "        # for source in image_sources\n",
    "    ]\n",
    "    image_responses = image_client.get_image(image_request)\n",
    "\n",
    "    color_img, _ = process_image_response(image_responses[0], options)\n",
    "    print(color_img.shape)\n",
    "    # plt.imshow(color_img)\n",
    "    # plt.show()\n",
    "\n",
    "    x, valid_inds = depth_image_to_pointcloud_custom(image_responses[1])\n",
    "\n",
    "    d = np.sqrt(np.sum(np.square(x), axis=1))\n",
    "    c = (color_img[:, :, ::-1][valid_inds] / 255.).astype(np.float32)\n",
    "    # c = np.tile((color_img[valid_inds] / 255.).astype(np.float32)[:, None], (1, 3))\n",
    "\n",
    "    x = x[d < 2.]\n",
    "    c = c[d < 2.]\n",
    "\n",
    "    print(x.shape, c.shape)\n",
    "\n",
    "    import open3d as o3d\n",
    "    pcd = o3d.geometry.PointCloud()\n",
    "    pcd.points = o3d.utility.Vector3dVector(x)\n",
    "    pcd.colors = o3d.utility.Vector3dVector(c)\n",
    "    # FIXME error: [Open3D WARNING] [DrawGeometries] Failed creating OpenGL window.\n",
    "    # o3d.visualization.draw_geometries([pcd])\n",
    "\n",
    "    res = {\n",
    "        # 'rgb': process_image_response(image_responses[0], args1)[0],\n",
    "        # 'depth': process_image_response(image_responses[1], args1)[0],\n",
    "        # TODO fix BGR to RGB issue\n",
    "        'rgb': process_image_response(image_responses[0], args1)[0][..., ::-1],\n",
    "        'depth': process_image_response(image_responses[1], args1)[0][..., ::-1],\n",
    "    }\n",
    "\n",
    "    return res, image_responses"
   ],
   "metadata": {
    "collapsed": false,
    "ExecuteTime": {
     "start_time": "2023-07-18T17:31:37.924060Z",
     "end_time": "2023-07-18T17:31:38.001429Z"
    }
   }
  },
  {
   "cell_type": "code",
   "execution_count": 66,
   "outputs": [],
   "source": [],
   "metadata": {
    "collapsed": false,
    "ExecuteTime": {
     "start_time": "2023-07-18T17:31:38.269715Z",
     "end_time": "2023-07-18T17:31:38.320316Z"
    }
   }
  },
  {
   "cell_type": "code",
   "execution_count": 66,
   "outputs": [],
   "source": [],
   "metadata": {
    "collapsed": false,
    "ExecuteTime": {
     "start_time": "2023-07-18T17:31:38.691434Z",
     "end_time": "2023-07-18T17:31:38.710854Z"
    }
   }
  },
  {
   "cell_type": "code",
   "execution_count": 67,
   "outputs": [],
   "source": [
    "from dataclasses import dataclass"
   ],
   "metadata": {
    "collapsed": false,
    "ExecuteTime": {
     "start_time": "2023-07-18T17:31:38.891116Z",
     "end_time": "2023-07-18T17:31:38.893214Z"
    }
   }
  },
  {
   "cell_type": "code",
   "execution_count": 68,
   "outputs": [],
   "source": [
    "@dataclass\n",
    "class TempArgs1:\n",
    "    hostname: str = '10.17.30.30'  # TODO 6th floor\n",
    "    # hostname: str = '10.17.30.21'\n",
    "    # hostname: str = '10.17.30.29'  # kepler\n",
    "    list: bool = True\n",
    "    auto_rotate: bool = False  # unnecessary for hand\n",
    "    image_service: str = ImageClient.default_service_name\n",
    "    pixel_format: list = tuple(pixel_format_type_strings())"
   ],
   "metadata": {
    "collapsed": false,
    "ExecuteTime": {
     "start_time": "2023-07-18T17:31:39.082386Z",
     "end_time": "2023-07-18T17:31:39.129207Z"
    }
   }
  },
  {
   "cell_type": "code",
   "execution_count": 69,
   "outputs": [],
   "source": [
    "args1 = TempArgs1()"
   ],
   "metadata": {
    "collapsed": false,
    "ExecuteTime": {
     "start_time": "2023-07-18T17:31:39.406237Z",
     "end_time": "2023-07-18T17:31:39.438222Z"
    }
   }
  },
  {
   "cell_type": "code",
   "execution_count": 70,
   "outputs": [
    {
     "data": {
      "text/plain": "TempArgs1(hostname='10.17.30.30', list=True, auto_rotate=False, image_service='image', pixel_format=('PIXEL_FORMAT_GREYSCALE_U8', 'PIXEL_FORMAT_RGB_U8', 'PIXEL_FORMAT_RGBA_U8', 'PIXEL_FORMAT_DEPTH_U16', 'PIXEL_FORMAT_GREYSCALE_U16'))"
     },
     "execution_count": 70,
     "metadata": {},
     "output_type": "execute_result"
    }
   ],
   "source": [
    "args1"
   ],
   "metadata": {
    "collapsed": false,
    "ExecuteTime": {
     "start_time": "2023-07-18T17:31:39.734096Z",
     "end_time": "2023-07-18T17:31:39.781639Z"
    }
   }
  },
  {
   "cell_type": "code",
   "execution_count": 70,
   "outputs": [],
   "source": [],
   "metadata": {
    "collapsed": false,
    "ExecuteTime": {
     "start_time": "2023-07-18T17:31:39.957348Z",
     "end_time": "2023-07-18T17:31:40.004975Z"
    }
   }
  },
  {
   "cell_type": "code",
   "execution_count": 143,
   "outputs": [
    {
     "ename": "UnableToConnectToRobotError",
     "evalue": "UnableToConnectToRobotError: The robot may be offline or otherwise unreachable.",
     "output_type": "error",
     "traceback": [
      "\u001B[0;31m---------------------------------------------------------------------------\u001B[0m",
      "\u001B[0;31mUnableToConnectToRobotError\u001B[0m               Traceback (most recent call last)",
      "Cell \u001B[0;32mIn[143], line 1\u001B[0m\n\u001B[0;32m----> 1\u001B[0m res1, image_responses1 \u001B[38;5;241m=\u001B[39m \u001B[43mget_hand_img\u001B[49m\u001B[43m(\u001B[49m\u001B[43moptions\u001B[49m\u001B[38;5;241;43m=\u001B[39;49m\u001B[43margs1\u001B[49m\u001B[43m)\u001B[49m\n\u001B[1;32m      2\u001B[0m \u001B[38;5;66;03m# TODO test body\u001B[39;00m\n\u001B[1;32m      3\u001B[0m \u001B[38;5;66;03m# res1, image_responses1 = get_body_img(options=args1)\u001B[39;00m\n",
      "Cell \u001B[0;32mIn[54], line 5\u001B[0m, in \u001B[0;36mget_hand_img\u001B[0;34m(options)\u001B[0m\n\u001B[1;32m      3\u001B[0m sdk \u001B[38;5;241m=\u001B[39m bosdyn\u001B[38;5;241m.\u001B[39mclient\u001B[38;5;241m.\u001B[39mcreate_standard_sdk(\u001B[38;5;124m'\u001B[39m\u001B[38;5;124mimage_capture\u001B[39m\u001B[38;5;124m'\u001B[39m)\n\u001B[1;32m      4\u001B[0m robot \u001B[38;5;241m=\u001B[39m sdk\u001B[38;5;241m.\u001B[39mcreate_robot(options\u001B[38;5;241m.\u001B[39mhostname)\n\u001B[0;32m----> 5\u001B[0m \u001B[43mbosdyn\u001B[49m\u001B[38;5;241;43m.\u001B[39;49m\u001B[43mclient\u001B[49m\u001B[38;5;241;43m.\u001B[39;49m\u001B[43mutil\u001B[49m\u001B[38;5;241;43m.\u001B[39;49m\u001B[43mauthenticate\u001B[49m\u001B[43m(\u001B[49m\u001B[43mrobot\u001B[49m\u001B[43m)\u001B[49m\n\u001B[1;32m      6\u001B[0m robot\u001B[38;5;241m.\u001B[39msync_with_directory()\n\u001B[1;32m      7\u001B[0m robot\u001B[38;5;241m.\u001B[39mtime_sync\u001B[38;5;241m.\u001B[39mwait_for_sync()\n",
      "File \u001B[0;32m~/miniconda3/lib/python3.10/site-packages/bosdyn/client/util.py:84\u001B[0m, in \u001B[0;36mauthenticate\u001B[0;34m(robot, askpass)\u001B[0m\n\u001B[1;32m     82\u001B[0m password \u001B[38;5;241m=\u001B[39m os\u001B[38;5;241m.\u001B[39menviron\u001B[38;5;241m.\u001B[39mget(\u001B[38;5;124m'\u001B[39m\u001B[38;5;124mBOSDYN_CLIENT_PASSWORD\u001B[39m\u001B[38;5;124m'\u001B[39m)\n\u001B[1;32m     83\u001B[0m \u001B[38;5;28;01mif\u001B[39;00m username \u001B[38;5;129;01mand\u001B[39;00m password:\n\u001B[0;32m---> 84\u001B[0m     \u001B[43mrobot\u001B[49m\u001B[38;5;241;43m.\u001B[39;49m\u001B[43mauthenticate\u001B[49m\u001B[43m(\u001B[49m\u001B[43musername\u001B[49m\u001B[43m,\u001B[49m\u001B[43m \u001B[49m\u001B[43mpassword\u001B[49m\u001B[43m)\u001B[49m\n\u001B[1;32m     85\u001B[0m     \u001B[38;5;28;01mreturn\u001B[39;00m\n\u001B[1;32m     87\u001B[0m \u001B[38;5;66;03m# Fail if no way to ask for credentials.\u001B[39;00m\n",
      "File \u001B[0;32m~/miniconda3/lib/python3.10/site-packages/bosdyn/client/robot.py:336\u001B[0m, in \u001B[0;36mRobot.authenticate\u001B[0;34m(self, username, password, timeout)\u001B[0m\n\u001B[1;32m    333\u001B[0m auth_channel \u001B[38;5;241m=\u001B[39m \u001B[38;5;28mself\u001B[39m\u001B[38;5;241m.\u001B[39mensure_secure_channel(\n\u001B[1;32m    334\u001B[0m     Robot\u001B[38;5;241m.\u001B[39m_bootstrap_service_authorities[AuthClient\u001B[38;5;241m.\u001B[39mdefault_service_name])\n\u001B[1;32m    335\u001B[0m auth_client \u001B[38;5;241m=\u001B[39m \u001B[38;5;28mself\u001B[39m\u001B[38;5;241m.\u001B[39mensure_client(AuthClient\u001B[38;5;241m.\u001B[39mdefault_service_name, auth_channel)\n\u001B[0;32m--> 336\u001B[0m user_token \u001B[38;5;241m=\u001B[39m \u001B[43mauth_client\u001B[49m\u001B[38;5;241;43m.\u001B[39;49m\u001B[43mauth\u001B[49m\u001B[43m(\u001B[49m\u001B[43musername\u001B[49m\u001B[43m,\u001B[49m\u001B[43m \u001B[49m\u001B[43mpassword\u001B[49m\u001B[43m,\u001B[49m\u001B[43m \u001B[49m\u001B[38;5;28;43mself\u001B[39;49m\u001B[38;5;241;43m.\u001B[39;49m\u001B[43mapp_token\u001B[49m\u001B[43m,\u001B[49m\u001B[43m \u001B[49m\u001B[43mtimeout\u001B[49m\u001B[38;5;241;43m=\u001B[39;49m\u001B[43mtimeout\u001B[49m\u001B[43m)\u001B[49m\n\u001B[1;32m    338\u001B[0m \u001B[38;5;28mself\u001B[39m\u001B[38;5;241m.\u001B[39mupdate_user_token(user_token, username)\n",
      "File \u001B[0;32m~/miniconda3/lib/python3.10/site-packages/bosdyn/client/auth.py:115\u001B[0m, in \u001B[0;36mAuthClient.auth\u001B[0;34m(self, username, password, app_token, **kwargs)\u001B[0m\n\u001B[1;32m    100\u001B[0m \u001B[38;5;250m\u001B[39m\u001B[38;5;124;03m\"\"\"Authenticate to the robot with a username/password combo.\u001B[39;00m\n\u001B[1;32m    101\u001B[0m \n\u001B[1;32m    102\u001B[0m \u001B[38;5;124;03mArgs:\u001B[39;00m\n\u001B[0;32m   (...)\u001B[0m\n\u001B[1;32m    112\u001B[0m \u001B[38;5;124;03m    InvalidLoginError: If username and/or password are not valid.\u001B[39;00m\n\u001B[1;32m    113\u001B[0m \u001B[38;5;124;03m\"\"\"\u001B[39;00m\n\u001B[1;32m    114\u001B[0m req \u001B[38;5;241m=\u001B[39m _build_auth_request(username, password, app_token)\n\u001B[0;32m--> 115\u001B[0m \u001B[38;5;28;01mreturn\u001B[39;00m \u001B[38;5;28;43mself\u001B[39;49m\u001B[38;5;241;43m.\u001B[39;49m\u001B[43mcall\u001B[49m\u001B[43m(\u001B[49m\u001B[38;5;28;43mself\u001B[39;49m\u001B[38;5;241;43m.\u001B[39;49m\u001B[43m_stub\u001B[49m\u001B[38;5;241;43m.\u001B[39;49m\u001B[43mGetAuthToken\u001B[49m\u001B[43m,\u001B[49m\u001B[43m \u001B[49m\u001B[43mreq\u001B[49m\u001B[43m,\u001B[49m\u001B[43m \u001B[49m\u001B[43m_token_from_response\u001B[49m\u001B[43m,\u001B[49m\u001B[43m \u001B[49m\u001B[43m_error_from_response\u001B[49m\u001B[43m,\u001B[49m\n\u001B[1;32m    116\u001B[0m \u001B[43m                 \u001B[49m\u001B[43mcopy_request\u001B[49m\u001B[38;5;241;43m=\u001B[39;49m\u001B[38;5;28;43;01mFalse\u001B[39;49;00m\u001B[43m,\u001B[49m\u001B[43m \u001B[49m\u001B[38;5;241;43m*\u001B[39;49m\u001B[38;5;241;43m*\u001B[39;49m\u001B[43mkwargs\u001B[49m\u001B[43m)\u001B[49m\n",
      "File \u001B[0;32m~/miniconda3/lib/python3.10/site-packages/bosdyn/client/common.py:242\u001B[0m, in \u001B[0;36mprocess_kwargs.<locals>.processor\u001B[0;34m(self, rpc_method, request, value_from_response, error_from_response, **kwargs)\u001B[0m\n\u001B[1;32m    239\u001B[0m     error_from_response \u001B[38;5;241m=\u001B[39m \u001B[38;5;28;01mNone\u001B[39;00m\n\u001B[1;32m    240\u001B[0m kwargs\u001B[38;5;241m.\u001B[39mpop(\u001B[38;5;124m\"\u001B[39m\u001B[38;5;124mdisable_error_handler\u001B[39m\u001B[38;5;124m\"\u001B[39m, \u001B[38;5;28;01mNone\u001B[39;00m)\n\u001B[0;32m--> 242\u001B[0m \u001B[38;5;28;01mreturn\u001B[39;00m \u001B[43mfunc\u001B[49m\u001B[43m(\u001B[49m\u001B[38;5;28;43mself\u001B[39;49m\u001B[43m,\u001B[49m\u001B[43m \u001B[49m\u001B[43mrpc_method\u001B[49m\u001B[43m,\u001B[49m\u001B[43m \u001B[49m\u001B[43mrequest\u001B[49m\u001B[43m,\u001B[49m\u001B[43m \u001B[49m\u001B[43mvalue_from_response\u001B[49m\u001B[38;5;241;43m=\u001B[39;49m\u001B[43mvalue_from_response\u001B[49m\u001B[43m,\u001B[49m\n\u001B[1;32m    243\u001B[0m \u001B[43m            \u001B[49m\u001B[43merror_from_response\u001B[49m\u001B[38;5;241;43m=\u001B[39;49m\u001B[43merror_from_response\u001B[49m\u001B[43m,\u001B[49m\u001B[43m \u001B[49m\u001B[38;5;241;43m*\u001B[39;49m\u001B[38;5;241;43m*\u001B[39;49m\u001B[43mkwargs\u001B[49m\u001B[43m)\u001B[49m\n",
      "File \u001B[0;32m~/miniconda3/lib/python3.10/site-packages/bosdyn/client/common.py:355\u001B[0m, in \u001B[0;36mBaseClient.call\u001B[0;34m(self, rpc_method, request, value_from_response, error_from_response, assemble_type, copy_request, **kwargs)\u001B[0m\n\u001B[1;32m    351\u001B[0m     response \u001B[38;5;241m=\u001B[39m rpc_method(request, timeout\u001B[38;5;241m=\u001B[39mtimeout, \u001B[38;5;241m*\u001B[39m\u001B[38;5;241m*\u001B[39mkwargs)\n\u001B[1;32m    352\u001B[0m \u001B[38;5;28;01mexcept\u001B[39;00m TransportError \u001B[38;5;28;01mas\u001B[39;00m e:\n\u001B[1;32m    353\u001B[0m     \u001B[38;5;66;03m# Use the \"raise from None\" pattern to reset the exception's context, which produces\u001B[39;00m\n\u001B[1;32m    354\u001B[0m     \u001B[38;5;66;03m# confusing stack traces.\u001B[39;00m\n\u001B[0;32m--> 355\u001B[0m     \u001B[38;5;28;01mraise\u001B[39;00m translate_exception(e) \u001B[38;5;28;01mfrom\u001B[39;00m \u001B[38;5;28mNone\u001B[39m\n\u001B[1;32m    357\u001B[0m \u001B[38;5;28;01mif\u001B[39;00m \u001B[38;5;28misinstance\u001B[39m(rpc_method, grpc\u001B[38;5;241m.\u001B[39mUnaryStreamMultiCallable) \u001B[38;5;129;01mor\u001B[39;00m \u001B[38;5;28misinstance\u001B[39m(\n\u001B[1;32m    358\u001B[0m         rpc_method, grpc\u001B[38;5;241m.\u001B[39mStreamStreamMultiCallable):\n\u001B[1;32m    359\u001B[0m     \u001B[38;5;66;03m# The outgoing response is a streaming response.\u001B[39;00m\n\u001B[1;32m    360\u001B[0m     \u001B[38;5;28;01mif\u001B[39;00m assemble_type \u001B[38;5;129;01mis\u001B[39;00m \u001B[38;5;129;01mnot\u001B[39;00m \u001B[38;5;28;01mNone\u001B[39;00m:\n\u001B[1;32m    361\u001B[0m         \u001B[38;5;66;03m# Assemble the data chunks into a message before passing to non-streaming handlers.\u001B[39;00m\n",
      "\u001B[0;31mUnableToConnectToRobotError\u001B[0m: UnableToConnectToRobotError: The robot may be offline or otherwise unreachable."
     ]
    }
   ],
   "source": [
    "res1, image_responses1 = get_hand_img(options=args1)\n",
    "# TODO test body\n",
    "# res1, image_responses1 = get_body_img(options=args1)"
   ],
   "metadata": {
    "collapsed": false,
    "ExecuteTime": {
     "start_time": "2023-07-18T17:53:49.982443Z",
     "end_time": "2023-07-18T17:53:51.416668Z"
    }
   }
  },
  {
   "cell_type": "code",
   "execution_count": null,
   "outputs": [],
   "source": [],
   "metadata": {
    "collapsed": false,
    "ExecuteTime": {
     "start_time": "2023-07-18T17:53:51.418394Z",
     "end_time": "2023-07-18T17:53:51.427554Z"
    }
   }
  },
  {
   "cell_type": "markdown",
   "source": [
    "### try to process images"
   ],
   "metadata": {
    "collapsed": false
   }
  },
  {
   "cell_type": "code",
   "execution_count": null,
   "outputs": [],
   "source": [
    "plt.imshow(res1['rgb'])\n",
    "# plt.imshow(res1['rgb'][..., ::-1])  # TODO fixed BGR issue above"
   ],
   "metadata": {
    "collapsed": false,
    "ExecuteTime": {
     "start_time": "2023-07-18T17:53:51.421487Z",
     "end_time": "2023-07-18T17:53:51.605001Z"
    }
   }
  },
  {
   "cell_type": "code",
   "execution_count": null,
   "outputs": [],
   "source": [
    "plt.imshow(res1['depth'])"
   ],
   "metadata": {
    "collapsed": false,
    "ExecuteTime": {
     "start_time": "2023-07-18T17:53:51.604740Z",
     "end_time": "2023-07-18T17:53:51.729499Z"
    }
   }
  },
  {
   "cell_type": "code",
   "execution_count": null,
   "outputs": [],
   "source": [],
   "metadata": {
    "collapsed": false,
    "ExecuteTime": {
     "start_time": "2023-07-18T17:53:53.002668Z",
     "end_time": "2023-07-18T17:53:53.018145Z"
    }
   }
  },
  {
   "cell_type": "markdown",
   "source": [
    "### rotate images"
   ],
   "metadata": {
    "collapsed": false
   }
  },
  {
   "cell_type": "code",
   "execution_count": null,
   "outputs": [],
   "source": [
    "# rotated_rgb = ndimage.rotate(res1['rgb'], ROTATION_ANGLE['frontleft_fisheye_image'])\n",
    "# rotated_depth = ndimage.rotate(res1['depth'], ROTATION_ANGLE['frontleft_fisheye_image'])"
   ],
   "metadata": {
    "collapsed": false,
    "ExecuteTime": {
     "start_time": "2023-07-18T17:53:54.128562Z",
     "end_time": "2023-07-18T17:53:54.167086Z"
    }
   }
  },
  {
   "cell_type": "code",
   "execution_count": null,
   "outputs": [],
   "source": [],
   "metadata": {
    "collapsed": false,
    "ExecuteTime": {
     "start_time": "2023-07-18T17:53:54.351202Z",
     "end_time": "2023-07-18T17:53:54.353583Z"
    }
   }
  },
  {
   "cell_type": "markdown",
   "source": [
    "# connect SAM with RGB"
   ],
   "metadata": {
    "collapsed": false
   }
  },
  {
   "cell_type": "code",
   "execution_count": null,
   "outputs": [],
   "source": [
    "# res2 = get_mask(image_in=res1['rgb'], classes=['hammer'])\n",
    "# res2 = get_mask(image_in=res1['rgb'], classes=['hex key'])\n",
    "# res2 = get_mask(image_in=res1['rgb'], classes=['yellow hex key', 'yellow hammer', 'red hammer'])\n",
    "# res2 = get_mask(image_in=res1['rgb'], classes=['hammer', 'socket', 'shelf'])\n",
    "# res2 = get_mask(image_in=res1['rgb'], classes=['desk', 'screwer', 'hex key', 'tool', 'hammer'])\n",
    "# res2 = get_mask(image_in=res1['rgb'], classes=['fiducial paper box', 'fiducial', 'qr code box'])\n",
    "# res2 = get_mask(image_in=res1['rgb'], classes=['qr code box'])\n",
    "# res2 = get_mask(image_in=res1['rgb'], classes=['qr code cube'])\n",
    "# res2 = get_mask(image_in=res1['rgb'], classes=['qr code'])\n",
    "# res2 = get_mask(image_in=res1['rgb'], classes=['hex key', 'yellow tool', 'scissor', 'screwer'])\n",
    "# res2 = get_mask(image_in=res1['rgb'], classes=['yellow brush', 'yellow-black brush'])\n",
    "# res2 = get_mask(image_in=res1['rgb'], classes=['yellow brush'])\n",
    "# res2 = get_mask(image_in=res1['rgb'], classes=['blue tool'])\n",
    "# res2 = get_mask(image_in=res1['rgb'], classes=['yellow scissor'])\n",
    "# res2 = get_mask(image_in=res1['rgb'], classes=['red screw driver'])\n",
    "# res2 = get_mask(image_in=res1['rgb'], classes=['green-black screw driver'])\n",
    "# res2 = get_mask(image_in=res1['rgb'], classes=['screw driver', 'measuring tape', 'red-black hammer', 'mallet'])\n",
    "# res2 = get_mask(image_in=res1['rgb'], classes=['measuring tape', 'mallet', 'hammer'])\n",
    "# res2 = get_mask(image_in=res1['rgb'], classes=['screw driver', 'tape'])\n",
    "# res2 = get_mask(image_in=res1['rgb'], classes=['measuring tape', 'hammer', 'bursh', 'screw driver', 'tape'])\n",
    "# res2 = get_mask(image_in=res1['rgb'], classes=['measuring tape', 'hammer', 'bursh'])\n",
    "res2 = get_mask(image_in=res1['rgb'], classes=['bursh'])"
   ],
   "metadata": {
    "collapsed": false,
    "ExecuteTime": {
     "start_time": "2023-07-18T17:49:20.595934Z",
     "end_time": "2023-07-18T17:50:23.388626Z"
    }
   }
  },
  {
   "cell_type": "code",
   "execution_count": null,
   "outputs": [],
   "source": [
    "# res2 = get_mask(image_in=rotated_rgb, classes=['brush'])\n",
    "# res2 = get_mask(image_in=rotated_rgb, classes=['screw driver'])\n",
    "# res2 = get_mask(image_in=rotated_rgb, classes=['red screw driver'])"
   ],
   "metadata": {
    "collapsed": false,
    "ExecuteTime": {
     "start_time": "2023-07-18T17:40:42.429375Z",
     "end_time": "2023-07-18T17:40:42.445465Z"
    }
   }
  },
  {
   "cell_type": "code",
   "execution_count": 109,
   "outputs": [],
   "source": [],
   "metadata": {
    "collapsed": false,
    "ExecuteTime": {
     "start_time": "2023-07-18T17:40:42.429524Z",
     "end_time": "2023-07-18T17:40:42.445622Z"
    }
   }
  },
  {
   "cell_type": "code",
   "execution_count": 110,
   "outputs": [
    {
     "data": {
      "text/plain": "<matplotlib.image.AxesImage at 0x7fe09c1ca4d0>"
     },
     "execution_count": 110,
     "metadata": {},
     "output_type": "execute_result"
    },
    {
     "data": {
      "text/plain": "<Figure size 640x480 with 1 Axes>",
      "image/png": "[encoded data removed]"
     },
     "metadata": {},
     "output_type": "display_data"
    }
   ],
   "source": [
    "plt.imshow(res2['masks'][0][0])"
   ],
   "metadata": {
    "collapsed": false,
    "ExecuteTime": {
     "start_time": "2023-07-18T17:40:42.471204Z",
     "end_time": "2023-07-18T17:40:42.583030Z"
    }
   }
  },
  {
   "cell_type": "code",
   "execution_count": 29,
   "outputs": [
    {
     "data": {
      "text/plain": "(1, 1, 726, 603)"
     },
     "execution_count": 29,
     "metadata": {},
     "output_type": "execute_result"
    }
   ],
   "source": [
    "res2['masks'].shape"
   ],
   "metadata": {
    "collapsed": false,
    "ExecuteTime": {
     "start_time": "2023-07-18T17:18:50.299047Z",
     "end_time": "2023-07-18T17:18:50.307929Z"
    }
   }
  },
  {
   "cell_type": "code",
   "execution_count": 30,
   "outputs": [
    {
     "data": {
      "text/plain": "(1, 4)"
     },
     "execution_count": 30,
     "metadata": {},
     "output_type": "execute_result"
    }
   ],
   "source": [
    "res2['boxes'].shape"
   ],
   "metadata": {
    "collapsed": false,
    "ExecuteTime": {
     "start_time": "2023-07-18T17:18:50.299133Z",
     "end_time": "2023-07-18T17:18:50.308097Z"
    }
   }
  },
  {
   "cell_type": "code",
   "execution_count": 30,
   "outputs": [],
   "source": [],
   "metadata": {
    "collapsed": false,
    "ExecuteTime": {
     "start_time": "2023-07-18T17:18:50.304232Z",
     "end_time": "2023-07-18T17:18:50.308178Z"
    }
   }
  },
  {
   "cell_type": "markdown",
   "source": [
    "# get maksed depth estimation"
   ],
   "metadata": {
    "collapsed": false
   }
  },
  {
   "cell_type": "code",
   "execution_count": 31,
   "outputs": [
    {
     "ename": "ValueError",
     "evalue": "operands could not be broadcast together with shapes (726,603) (480,640) ",
     "output_type": "error",
     "traceback": [
      "\u001B[0;31m---------------------------------------------------------------------------\u001B[0m",
      "\u001B[0;31mValueError\u001B[0m                                Traceback (most recent call last)",
      "Cell \u001B[0;32mIn[31], line 1\u001B[0m\n\u001B[0;32m----> 1\u001B[0m res1[\u001B[38;5;124m'\u001B[39m\u001B[38;5;124mdepth\u001B[39m\u001B[38;5;124m'\u001B[39m][\u001B[43mres2\u001B[49m\u001B[43m[\u001B[49m\u001B[38;5;124;43m'\u001B[39;49m\u001B[38;5;124;43mmasks\u001B[39;49m\u001B[38;5;124;43m'\u001B[39;49m\u001B[43m]\u001B[49m\u001B[43m[\u001B[49m\u001B[38;5;241;43m0\u001B[39;49m\u001B[43m]\u001B[49m\u001B[43m[\u001B[49m\u001B[38;5;241;43m0\u001B[39;49m\u001B[43m]\u001B[49m\u001B[43m \u001B[49m\u001B[38;5;241;43m&\u001B[39;49m\u001B[43m \u001B[49m\u001B[43m(\u001B[49m\u001B[43mres1\u001B[49m\u001B[43m[\u001B[49m\u001B[38;5;124;43m'\u001B[39;49m\u001B[38;5;124;43mdepth\u001B[39;49m\u001B[38;5;124;43m'\u001B[39;49m\u001B[43m]\u001B[49m\u001B[43m \u001B[49m\u001B[38;5;241;43m>\u001B[39;49m\u001B[43m \u001B[49m\u001B[38;5;241;43m2\u001B[39;49m\u001B[43m)\u001B[49m\u001B[43m[\u001B[49m\u001B[43m:\u001B[49m\u001B[43m,\u001B[49m\u001B[43m \u001B[49m\u001B[43m:\u001B[49m\u001B[43m,\u001B[49m\u001B[43m \u001B[49m\u001B[38;5;241;43m0\u001B[39;49m\u001B[43m]\u001B[49m]\n",
      "\u001B[0;31mValueError\u001B[0m: operands could not be broadcast together with shapes (726,603) (480,640) "
     ]
    }
   ],
   "source": [
    "res1['depth'][res2['masks'][0][0] & (res1['depth'] > 2)[:, :, 0]]"
   ],
   "metadata": {
    "collapsed": false,
    "ExecuteTime": {
     "start_time": "2023-07-07T18:07:16.534681Z",
     "end_time": "2023-07-07T18:07:16.568212Z"
    }
   }
  },
  {
   "cell_type": "code",
   "execution_count": null,
   "outputs": [],
   "source": [
    "np.median(res1['depth'][res2['masks'][0][0]])"
   ],
   "metadata": {
    "collapsed": false,
    "ExecuteTime": {
     "start_time": "2023-07-07T18:07:17.405816Z",
     "end_time": "2023-07-07T18:07:17.903601Z"
    }
   }
  },
  {
   "cell_type": "code",
   "execution_count": null,
   "outputs": [],
   "source": [
    "# plt.hist(res1['depth'][res2['masks'][0][0]])\n",
    "plt.hist(res1['depth'][res2['masks'][0][0] & (res1['depth'] > 2)[:, :, 0]])"
   ],
   "metadata": {
    "collapsed": false,
    "ExecuteTime": {
     "start_time": "2023-07-07T18:07:17.515677Z",
     "end_time": "2023-07-07T18:07:18.148325Z"
    }
   }
  },
  {
   "cell_type": "code",
   "execution_count": null,
   "outputs": [],
   "source": [
    "np.median(res1['depth'][res2['masks'][0][0] & (res1['depth'] > 2)[:, :, 0]])"
   ],
   "metadata": {
    "collapsed": false,
    "ExecuteTime": {
     "start_time": "2023-07-07T18:07:17.891181Z",
     "end_time": "2023-07-07T18:07:18.496581Z"
    }
   }
  },
  {
   "cell_type": "code",
   "execution_count": null,
   "outputs": [],
   "source": [
    "median_depth = res1['depth'][res2['masks'][0][0] & (res1['depth'] > 2)[:, :, 0]]"
   ],
   "metadata": {
    "collapsed": false,
    "ExecuteTime": {
     "start_time": "2023-07-07T18:07:18.139320Z",
     "end_time": "2023-07-07T18:07:18.521385Z"
    }
   }
  },
  {
   "cell_type": "code",
   "execution_count": null,
   "outputs": [],
   "source": [],
   "metadata": {
    "collapsed": false,
    "ExecuteTime": {
     "start_time": "2023-07-07T18:07:18.477659Z",
     "end_time": "2023-07-07T18:07:18.579283Z"
    }
   }
  },
  {
   "cell_type": "markdown",
   "source": [
    "# get center of object"
   ],
   "metadata": {
    "collapsed": false
   }
  },
  {
   "cell_type": "markdown",
   "source": [],
   "metadata": {
    "collapsed": false
   }
  },
  {
   "cell_type": "code",
   "execution_count": null,
   "outputs": [],
   "source": [
    "res2['boxes'][0]"
   ],
   "metadata": {
    "collapsed": false,
    "ExecuteTime": {
     "start_time": "2023-07-07T18:07:19.760546Z",
     "end_time": "2023-07-07T18:07:19.798274Z"
    }
   }
  },
  {
   "cell_type": "code",
   "execution_count": null,
   "outputs": [],
   "source": [
    "x1, y1, x2, y2 = res2['boxes'][0]"
   ],
   "metadata": {
    "collapsed": false,
    "ExecuteTime": {
     "start_time": "2023-07-05T15:33:16.506875Z",
     "end_time": "2023-07-05T15:33:16.656918Z"
    }
   }
  },
  {
   "cell_type": "code",
   "execution_count": null,
   "outputs": [],
   "source": [
    "x_c = (x1 + x2) / 2\n",
    "y_c = (y1 + y2) / 2"
   ],
   "metadata": {
    "collapsed": false,
    "ExecuteTime": {
     "start_time": "2023-07-05T15:33:16.559450Z",
     "end_time": "2023-07-05T15:33:16.702270Z"
    }
   }
  },
  {
   "cell_type": "code",
   "execution_count": null,
   "outputs": [],
   "source": [
    "x_c, y_c"
   ],
   "metadata": {
    "collapsed": false,
    "ExecuteTime": {
     "start_time": "2023-07-05T15:33:16.607732Z",
     "end_time": "2023-07-05T15:33:16.702772Z"
    }
   }
  },
  {
   "cell_type": "code",
   "execution_count": null,
   "outputs": [],
   "source": [
    "plt.imshow(res2['masks'][0][0])\n",
    "plt.scatter(x_c, y_c, marker='*', color='red', zorder=3)"
   ],
   "metadata": {
    "collapsed": false,
    "ExecuteTime": {
     "start_time": "2023-07-05T15:33:17.065165Z",
     "end_time": "2023-07-05T15:33:17.896741Z"
    }
   }
  },
  {
   "cell_type": "code",
   "execution_count": null,
   "outputs": [],
   "source": [],
   "metadata": {
    "collapsed": false,
    "ExecuteTime": {
     "start_time": "2023-07-05T15:33:17.264047Z",
     "end_time": "2023-07-05T15:33:17.896933Z"
    }
   }
  },
  {
   "cell_type": "markdown",
   "source": [
    "# get point cloud"
   ],
   "metadata": {
    "collapsed": false
   }
  },
  {
   "cell_type": "code",
   "execution_count": null,
   "outputs": [],
   "source": [
    "image_responses1"
   ],
   "metadata": {
    "collapsed": false,
    "ExecuteTime": {
     "start_time": "2023-07-05T15:33:17.881840Z",
     "end_time": "2023-07-05T15:33:18.428444Z"
    }
   }
  },
  {
   "cell_type": "code",
   "execution_count": null,
   "outputs": [],
   "source": [
    "depth_image_to_pointcloud_custom(image_responses1[1])"
   ],
   "metadata": {
    "collapsed": false,
    "ExecuteTime": {
     "start_time": "2023-07-05T15:33:18.134813Z",
     "end_time": "2023-07-05T15:33:18.449342Z"
    }
   }
  },
  {
   "cell_type": "code",
   "execution_count": null,
   "outputs": [],
   "source": [],
   "metadata": {
    "collapsed": false,
    "ExecuteTime": {
     "start_time": "2023-07-05T15:33:18.422400Z",
     "end_time": "2023-07-05T15:33:18.484558Z"
    }
   }
  },
  {
   "cell_type": "markdown",
   "source": [
    "### try to visualize point cloud"
   ],
   "metadata": {
    "collapsed": false
   }
  },
  {
   "cell_type": "code",
   "execution_count": null,
   "outputs": [],
   "source": [
    "x, valid_inds = depth_image_to_pointcloud_custom(image_responses1[1])\n",
    "\n",
    "d = np.sqrt(np.sum(np.square(x), axis=1))\n",
    "c = (res1['rgb'][:, :, ::-1][valid_inds] / 255.).astype(np.float32)\n",
    "# c = np.tile((color_img[valid_inds] / 255.).astype(np.float32)[:, None], (1, 3))\n",
    "\n",
    "x = x[d < 2.]\n",
    "c = c[d < 2.]\n",
    "\n",
    "print(x.shape, c.shape)"
   ],
   "metadata": {
    "collapsed": false,
    "ExecuteTime": {
     "start_time": "2023-07-05T15:33:19.049140Z",
     "end_time": "2023-07-05T15:33:19.140244Z"
    }
   }
  },
  {
   "cell_type": "code",
   "execution_count": null,
   "outputs": [],
   "source": [
    "# import open3d as o3d\n",
    "# import open3d.visualization\n",
    "#\n",
    "# pcd = o3d.geometry.PointCloud()\n",
    "# pcd.points = o3d.utility.Vector3dVector(x)\n",
    "# pcd.colors = o3d.utility.Vector3dVector(c)\n",
    "# # FIXME error: [Open3D WARNING] [DrawGeometries] Failed creating OpenGL window.\n",
    "# o3d.visualization.draw_geometries([pcd])"
   ],
   "metadata": {
    "collapsed": false,
    "ExecuteTime": {
     "start_time": "2023-07-05T15:33:19.894951Z",
     "end_time": "2023-07-05T15:33:19.961334Z"
    }
   }
  },
  {
   "cell_type": "code",
   "execution_count": null,
   "outputs": [],
   "source": [
    "fig = plt.figure()\n",
    "ax = fig.add_subplot(111, projection='3d')\n",
    "ax.scatter(x[:, 0], x[:, 1], x[:, 2], c='blue', marker='.')"
   ],
   "metadata": {
    "collapsed": false,
    "ExecuteTime": {
     "start_time": "2023-07-05T15:33:20.837475Z",
     "end_time": "2023-07-05T15:33:22.995386Z"
    }
   }
  },
  {
   "cell_type": "code",
   "execution_count": null,
   "outputs": [],
   "source": [
    "res2['masks'].shape"
   ],
   "metadata": {
    "collapsed": false,
    "ExecuteTime": {
     "start_time": "2023-07-05T15:33:23.415758Z",
     "end_time": "2023-07-05T15:33:23.435090Z"
    }
   }
  },
  {
   "cell_type": "code",
   "execution_count": null,
   "outputs": [],
   "source": [],
   "metadata": {
    "collapsed": false,
    "ExecuteTime": {
     "start_time": "2023-07-05T15:33:24.276438Z",
     "end_time": "2023-07-05T15:33:24.324959Z"
    }
   }
  },
  {
   "cell_type": "code",
   "execution_count": null,
   "outputs": [],
   "source": [],
   "metadata": {
    "collapsed": false,
    "ExecuteTime": {
     "start_time": "2023-07-05T15:33:25.122438Z",
     "end_time": "2023-07-05T15:33:25.196327Z"
    }
   }
  },
  {
   "cell_type": "markdown",
   "source": [
    "# convert into correct reference frame"
   ],
   "metadata": {
    "collapsed": false
   }
  },
  {
   "cell_type": "code",
   "execution_count": null,
   "outputs": [],
   "source": [
    "def get_xyz_from_depth(image_response, depth_value, point_x, point_y, min_dist=0, max_dist=1000):\n",
    "    \"\"\"\n",
    "    This is a function based on `depth_image_to_pointcloud`\n",
    "    \"\"\"\n",
    "    if image_response.source.image_type != image_pb2.ImageSource.IMAGE_TYPE_DEPTH:\n",
    "        raise ValueError('requires an image_type of IMAGE_TYPE_DEPTH.')\n",
    "\n",
    "    if image_response.shot.image.pixel_format != image_pb2.Image.PIXEL_FORMAT_DEPTH_U16:\n",
    "        raise ValueError(\n",
    "            'IMAGE_TYPE_DEPTH with an unsupported format, requires PIXEL_FORMAT_DEPTH_U16.')\n",
    "\n",
    "    if not image_response.source.HasField('pinhole'):\n",
    "        raise ValueError('Requires a pinhole camera_model.')\n",
    "\n",
    "    fx = image_response.source.pinhole.intrinsics.focal_length.x\n",
    "    fy = image_response.source.pinhole.intrinsics.focal_length.y\n",
    "    cx = image_response.source.pinhole.intrinsics.principal_point.x\n",
    "    cy = image_response.source.pinhole.intrinsics.principal_point.y\n",
    "    depth_scale = image_response.source.depth_scale\n",
    "\n",
    "    # Convert the valid distance data to (x,y,z) values expressed in the sensor frame.\n",
    "    z = depth_value / depth_scale\n",
    "    x = np.multiply(z, (point_x - cx)) / fx\n",
    "    y = np.multiply(z, (point_y - cy)) / fy\n",
    "    # return np.vstack((x, y, z)).T, valid_inds\n",
    "    return x, y, z"
   ],
   "metadata": {
    "collapsed": false,
    "ExecuteTime": {
     "start_time": "2023-07-14T17:16:06.130210Z",
     "end_time": "2023-07-14T17:16:06.171632Z"
    }
   }
  },
  {
   "cell_type": "code",
   "execution_count": null,
   "outputs": [],
   "source": [
    "get_xyz_from_depth(\n",
    "    image_responses1[1],\n",
    "    depth_value=np.median(res1['depth'][res2['masks'][0][0]]),\n",
    "    point_x=x_c,\n",
    "    point_y=y_c\n",
    ")"
   ],
   "metadata": {
    "collapsed": false,
    "ExecuteTime": {
     "start_time": "2023-07-05T15:33:26.940479Z",
     "end_time": "2023-07-05T15:33:27.087763Z"
    }
   }
  },
  {
   "cell_type": "code",
   "execution_count": null,
   "outputs": [],
   "source": [
    "x0, y0, z0 = get_xyz_from_depth(\n",
    "    image_responses1[1],\n",
    "    # depth_value=np.median(res1['depth'][res2['masks'][0][0]]),\n",
    "    depth_value=np.median(res1['depth'][res2['masks'][0][0] & (res1['depth'] > 2)[:, :, 0]]),\n",
    "    point_x=x_c,\n",
    "    point_y=y_c\n",
    ")"
   ],
   "metadata": {
    "collapsed": false,
    "ExecuteTime": {
     "start_time": "2023-07-05T15:33:27.873965Z",
     "end_time": "2023-07-05T15:33:27.956046Z"
    }
   }
  },
  {
   "cell_type": "code",
   "execution_count": null,
   "outputs": [],
   "source": [
    "fig = plt.figure()\n",
    "ax = fig.add_subplot(111, projection='3d')\n",
    "ax.scatter(x[:, 0], x[:, 1], x[:, 2], c='blue', marker='.')\n",
    "\n",
    "ax.scatter(xs=x0, ys=y0, zs=z0, c='red', marker='*')\n",
    "# plt.plot()"
   ],
   "metadata": {
    "collapsed": false,
    "ExecuteTime": {
     "start_time": "2023-07-05T15:33:37.268127Z",
     "end_time": "2023-07-05T15:33:39.382036Z"
    }
   }
  },
  {
   "cell_type": "code",
   "execution_count": null,
   "outputs": [],
   "source": [],
   "metadata": {
    "collapsed": false,
    "ExecuteTime": {
     "start_time": "2023-07-05T15:33:39.383070Z",
     "end_time": "2023-07-05T15:33:39.388298Z"
    }
   }
  },
  {
   "cell_type": "code",
   "execution_count": null,
   "outputs": [],
   "source": [],
   "metadata": {
    "collapsed": false,
    "ExecuteTime": {
     "start_time": "2023-07-05T15:33:39.386063Z",
     "end_time": "2023-07-05T15:33:39.388583Z"
    }
   }
  },
  {
   "cell_type": "markdown",
   "source": [
    "# merge into functions\n",
    "\n",
    "- get hand RGB-D image responses - done\n",
    "- use SAM to get masks -- done\n",
    "-"
   ],
   "metadata": {
    "collapsed": false
   }
  },
  {
   "cell_type": "code",
   "execution_count": null,
   "outputs": [],
   "source": [
    "def get_object_locations_with_sam(\n",
    "        args,\n",
    "        classes,\n",
    "        in_res_image=None, in_res_image_responses=None,\n",
    "        plot=True\n",
    "):\n",
    "\n",
    "    if in_res_image is None or in_res_image_responses is None:\n",
    "        # res_image, res_image_responses = get_hand_img(options=args)\n",
    "        # TODO use body camera\n",
    "        res_image, res_image_responses = get_body_img(options=args)\n",
    "        # return of res_image: 'rgb', 'depth'\n",
    "        # return of res_image_responses: RGB and depth image responses with camera info\n",
    "    else:\n",
    "        res_image = in_res_image\n",
    "        res_image_responses = in_res_image_responses\n",
    "\n",
    "    # FIXME debug\n",
    "    if plot:\n",
    "        plt.imshow(res_image['rgb'])\n",
    "        plt.show()\n",
    "\n",
    "    rotated_rgb = ndimage.rotate(res_image['rgb'], ROTATION_ANGLE['frontleft_fisheye_image'])\n",
    "    rotated_depth = ndimage.rotate(res_image['depth'], ROTATION_ANGLE['frontleft_fisheye_image'])\n",
    "\n",
    "    # res_segment = get_mask(image_in=res_image['rgb'], classes=classes)\n",
    "    res_segment = get_mask(image_in=rotated_rgb, classes=classes)\n",
    "    # return: 'masks', 'boxes', 'classes'\n",
    "\n",
    "    obj_num = len(res_segment['masks'])\n",
    "\n",
    "    # Detect multiple objects with their masks\n",
    "    for i in range(obj_num):\n",
    "        # Compute median value of depth\n",
    "        # depth_median = np.median(\n",
    "        #     res_image['depth'][res_segment['masks'][i][0] & (res_image['depth'] > 2)[:, :, 0]]\n",
    "        # )\n",
    "        depth_median = np.median(\n",
    "            rotated_depth[res_segment['masks'][i][0] & (rotated_depth > 2)[:, :, 0]]\n",
    "        )\n",
    "\n",
    "        # Compute geometric center of object bounding box\n",
    "        x1, y1, x2, y2 = res_segment['boxes'][i]\n",
    "        x_c = (x1 + x2) / 2\n",
    "        y_c = (y1 + y2) / 2\n",
    "\n",
    "        # FIXME\n",
    "        # Get the inverse rotation angle\n",
    "        inverse_rotation_angle = -ROTATION_ANGLE['frontleft_fisheye_image']\n",
    "        # Create a transformation matrix for the inverse rotation\n",
    "        transform_matrix = np.array(\n",
    "            [[np.cos(inverse_rotation_angle), -np.sin(inverse_rotation_angle)],\n",
    "             [np.sin(inverse_rotation_angle), np.cos(inverse_rotation_angle)]])\n",
    "        # Subtract the center of the image from the pixel location to translate the rotation to the origin\n",
    "        # TODO x - 0 and y - 1?\n",
    "        center = np.array([rotated_rgb.shape[0] / 2., rotated_rgb.shape[1] / 2.])\n",
    "        pixel_centered = np.array([x_c, y_c]) - center\n",
    "        # Apply the rotation\n",
    "        rotated_pixel_centered = np.dot(transform_matrix, pixel_centered)\n",
    "        # Add the center of the image back to the pixel location to translate the rotation back from the origin\n",
    "        rotated_pixel = rotated_pixel_centered + center\n",
    "        # Now rotated_pixel is the location of the pixel after the inverse rotation\n",
    "        x_c_rotated = rotated_pixel[0]\n",
    "        y_c_rotated = rotated_pixel[1]\n",
    "\n",
    "        # Plot center and segmentation mask\n",
    "        if plot:\n",
    "            plt.imshow(res_segment['masks'][i][0])\n",
    "            plt.scatter(x_c, y_c, marker='*', color='red', zorder=3)\n",
    "            plt.show()\n",
    "\n",
    "        # Get XYZ of the point at center of bounding box and median depth value\n",
    "        x0, y0, z0 = get_xyz_from_depth(\n",
    "            res_image_responses[1],\n",
    "            depth_value=depth_median,\n",
    "            # point_x=x_c,\n",
    "            # point_y=y_c\n",
    "            point_x=x_c_rotated,\n",
    "            point_y=y_c_rotated\n",
    "        )\n",
    "\n",
    "        print((x0, y0, z0))\n",
    "\n",
    "        # TODO no fix now\n",
    "        # x, valid_inds = depth_image_to_pointcloud_custom(\n",
    "        #     res_image_responses[1],\n",
    "        #     masks=res_segment['masks'][i][0],\n",
    "        # )\n",
    "\n",
    "        # if plot:\n",
    "        #     fig = plt.figure()\n",
    "        #     ax = fig.add_subplot(111, projection='3d')\n",
    "        #     ax.scatter(x[:, 0], x[:, 1], x[:, 2], c='blue', marker='.')\n",
    "        #\n",
    "        #     ax.scatter(xs=x0, ys=y0, zs=z0, c='red', marker='*')\n",
    "        #     plt.show()\n",
    "\n",
    "    return"
   ],
   "metadata": {
    "collapsed": false,
    "ExecuteTime": {
     "start_time": "2023-07-14T17:21:47.318901Z",
     "end_time": "2023-07-14T17:21:47.383125Z"
    }
   }
  },
  {
   "cell_type": "code",
   "execution_count": null,
   "outputs": [],
   "source": [
    "get_object_locations_with_sam(\n",
    "    args1,\n",
    "    # classes=['scissor'],\n",
    "    classes=['brush'],\n",
    "    # in_res_image=res1, in_res_image_responses=image_responses1\n",
    ")"
   ],
   "metadata": {
    "collapsed": false,
    "ExecuteTime": {
     "start_time": "2023-07-14T17:21:49.633488Z",
     "end_time": "2023-07-14T17:21:53.106585Z"
    }
   }
  },
  {
   "cell_type": "code",
   "execution_count": null,
   "outputs": [],
   "source": [],
   "metadata": {
    "collapsed": false,
    "ExecuteTime": {
     "start_time": "2023-06-27T18:37:37.998928Z",
     "end_time": "2023-06-27T18:37:38.001378Z"
    }
   }
  },
  {
   "cell_type": "code",
   "execution_count": null,
   "outputs": [],
   "source": [],
   "metadata": {
    "collapsed": false
   }
  }
 ],
 "metadata": {
  "kernelspec": {
   "display_name": "Python 3",
   "language": "python",
   "name": "python3"
  },
  "language_info": {
   "codemirror_mode": {
    "name": "ipython",
    "version": 2
   },
   "file_extension": ".py",
   "mimetype": "text/x-python",
   "name": "python",
   "nbconvert_exporter": "python",
   "pygments_lexer": "ipython2",
   "version": "2.7.6"
  }
 },
 "nbformat": 4,
 "nbformat_minor": 0
}
