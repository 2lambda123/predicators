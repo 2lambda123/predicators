{
 "cells": [
  {
   "cell_type": "code",
   "execution_count": 2,
   "id": "initial_id",
   "metadata": {
    "collapsed": true,
    "ExecuteTime": {
     "end_time": "2023-08-16T16:19:54.963426004Z",
     "start_time": "2023-08-16T16:19:54.955342298Z"
    }
   },
   "outputs": [],
   "source": [
    "%load_ext autoreload\n",
    "%autoreload 2"
   ]
  },
  {
   "cell_type": "code",
   "execution_count": 2,
   "outputs": [],
   "source": [],
   "metadata": {
    "collapsed": false,
    "ExecuteTime": {
     "end_time": "2023-08-16T16:19:55.105318963Z",
     "start_time": "2023-08-16T16:19:55.094352464Z"
    }
   },
   "id": "c9512c046f06f68f"
  },
  {
   "cell_type": "code",
   "execution_count": 3,
   "outputs": [
    {
     "data": {
      "text/plain": "'/home/lzhao/repo/predicators/grounded_language_plan/debug'"
     },
     "execution_count": 3,
     "metadata": {},
     "output_type": "execute_result"
    }
   ],
   "source": [
    "%pwd"
   ],
   "metadata": {
    "collapsed": false,
    "ExecuteTime": {
     "end_time": "2023-08-16T16:19:55.223293460Z",
     "start_time": "2023-08-16T16:19:55.213312988Z"
    }
   },
   "id": "a7fe72b381b7e997"
  },
  {
   "cell_type": "markdown",
   "source": [
    "# load state"
   ],
   "metadata": {
    "collapsed": false
   },
   "id": "e912a515310f02c4"
  },
  {
   "cell_type": "code",
   "execution_count": 4,
   "outputs": [],
   "source": [
    "import pickle"
   ],
   "metadata": {
    "collapsed": false,
    "ExecuteTime": {
     "end_time": "2023-08-16T16:19:55.515478420Z",
     "start_time": "2023-08-16T16:19:55.504637915Z"
    }
   },
   "id": "6b491f73ce4d7ff3"
  },
  {
   "cell_type": "code",
   "execution_count": 5,
   "outputs": [],
   "source": [
    "with open('./test_state_dict.pickle', 'rb') as fp:\n",
    "    test_state_dict = pickle.load(fp)"
   ],
   "metadata": {
    "collapsed": false,
    "ExecuteTime": {
     "end_time": "2023-08-16T16:19:55.988418306Z",
     "start_time": "2023-08-16T16:19:55.670730869Z"
    }
   },
   "id": "f4e5b80b1915e97a"
  },
  {
   "cell_type": "code",
   "execution_count": 6,
   "outputs": [
    {
     "data": {
      "text/plain": "{spot:robot: {'gripper_open_percentage': 0.4456520080566406,\n  'curr_held_item_id': 0.0,\n  'x': 6.7058562186811645,\n  'y': -7.369474475270126,\n  'z': 0.13771875358859098,\n  'yaw': 1.533047610889348},\n tool_room_table:flat_surface: {'x': 6.63041, 'y': -6.35143, 'z': 0.179613},\n extra_room_table:flat_surface: {'x': 8.27387, 'y': -6.23233, 'z': -0.0678132},\n low_wall_rack:flat_surface: {'x': 10.049931203338616,\n  'y': -6.9443170697742,\n  'z': 0.27881268568327966},\n high_wall_rack:flat_surface: {'x': 10.049931203338616,\n  'y': -6.9443170697742,\n  'z': 0.7578812685683279},\n bucket:bag: {'x': 7.043112552148553,\n  'y': -8.198686802340527,\n  'z': -0.18750694527153725},\n platform:platform: {'x': 8.79312,\n  'y': -7.8821,\n  'z': -0.100635,\n  'in_view': 0.0,\n  'lost': 0.0},\n floor:floor: {'x': 0.0, 'y': 0.0, 'z': -1.0},\n hammer:tool: {'x': 9.767198813801544,\n  'y': -7.032570056485618,\n  'z': 0.5539838064466492,\n  'in_view': 0.0,\n  'lost': 0.0}}"
     },
     "execution_count": 6,
     "metadata": {},
     "output_type": "execute_result"
    }
   ],
   "source": [
    "test_state_dict"
   ],
   "metadata": {
    "collapsed": false,
    "ExecuteTime": {
     "end_time": "2023-08-16T16:19:56.006647031Z",
     "start_time": "2023-08-16T16:19:55.989793492Z"
    }
   },
   "id": "c7f345c709e89423"
  },
  {
   "cell_type": "code",
   "execution_count": 7,
   "outputs": [],
   "source": [
    "# with open('./test_simulator_state.pickle', 'rb') as fp:\n",
    "#     test_simulator_state = pickle.load(fp)"
   ],
   "metadata": {
    "collapsed": false,
    "ExecuteTime": {
     "end_time": "2023-08-16T16:19:56.006945605Z",
     "start_time": "2023-08-16T16:19:55.998947874Z"
    }
   },
   "id": "e9ec84ac0976881c"
  },
  {
   "cell_type": "code",
   "execution_count": 7,
   "outputs": [],
   "source": [],
   "metadata": {
    "collapsed": false,
    "ExecuteTime": {
     "end_time": "2023-08-16T16:19:56.066997243Z",
     "start_time": "2023-08-16T16:19:56.064289195Z"
    }
   },
   "id": "2398ef5846a7c6ed"
  },
  {
   "cell_type": "markdown",
   "source": [
    "# init into state"
   ],
   "metadata": {
    "collapsed": false
   },
   "id": "6626306f0722430e"
  },
  {
   "cell_type": "code",
   "execution_count": 8,
   "outputs": [
    {
     "name": "stderr",
     "output_type": "stream",
     "text": [
      "pybullet build time: Apr  5 2023 14:14:33\n"
     ]
    }
   ],
   "source": [
    "from predicators.utils import create_state_from_dict"
   ],
   "metadata": {
    "collapsed": false,
    "ExecuteTime": {
     "end_time": "2023-08-16T16:19:56.690507797Z",
     "start_time": "2023-08-16T16:19:56.352019570Z"
    }
   },
   "id": "76d9a304f6954e23"
  },
  {
   "cell_type": "code",
   "execution_count": 9,
   "outputs": [],
   "source": [
    "from predicators.structs import State"
   ],
   "metadata": {
    "collapsed": false,
    "ExecuteTime": {
     "end_time": "2023-08-16T16:19:56.713484303Z",
     "start_time": "2023-08-16T16:19:56.692450868Z"
    }
   },
   "id": "e94e235464aa9fa3"
  },
  {
   "cell_type": "code",
   "execution_count": 10,
   "outputs": [],
   "source": [
    "test_percept_state = create_state_from_dict(test_state_dict)"
   ],
   "metadata": {
    "collapsed": false,
    "ExecuteTime": {
     "end_time": "2023-08-16T16:19:56.731085010Z",
     "start_time": "2023-08-16T16:19:56.706047053Z"
    }
   },
   "id": "bec65056685fa170"
  },
  {
   "cell_type": "code",
   "execution_count": 11,
   "outputs": [],
   "source": [
    "test_state = State(test_percept_state)"
   ],
   "metadata": {
    "collapsed": false,
    "ExecuteTime": {
     "end_time": "2023-08-16T16:19:56.826319695Z",
     "start_time": "2023-08-16T16:19:56.815394891Z"
    }
   },
   "id": "3f7a7e3f9f315058"
  },
  {
   "cell_type": "code",
   "execution_count": 12,
   "outputs": [],
   "source": [
    "# test_simulator_state = "
   ],
   "metadata": {
    "collapsed": false,
    "ExecuteTime": {
     "end_time": "2023-08-16T16:19:57.021017570Z",
     "start_time": "2023-08-16T16:19:56.977046811Z"
    }
   },
   "id": "261b4dc71d2c7cfb"
  },
  {
   "cell_type": "code",
   "execution_count": 12,
   "outputs": [],
   "source": [],
   "metadata": {
    "collapsed": false,
    "ExecuteTime": {
     "end_time": "2023-08-16T16:19:57.169197552Z",
     "start_time": "2023-08-16T16:19:57.127198708Z"
    }
   },
   "id": "5742fc37c1102615"
  },
  {
   "cell_type": "markdown",
   "source": [
    "# play with state"
   ],
   "metadata": {
    "collapsed": false
   },
   "id": "d6bc7d7e867c1a26"
  },
  {
   "cell_type": "code",
   "execution_count": 13,
   "outputs": [
    {
     "data": {
      "text/plain": "State(data={spot:robot: array([ 0.44565201,  0.        ,  6.70585622, -7.36947448,  0.13771875,\n        1.53304761]), tool_room_table:flat_surface: array([ 6.63041 , -6.35143 ,  0.179613]), extra_room_table:flat_surface: array([ 8.27387  , -6.23233  , -0.0678132]), low_wall_rack:flat_surface: array([10.0499312 , -6.94431707,  0.27881269]), high_wall_rack:flat_surface: array([10.0499312 , -6.94431707,  0.75788127]), bucket:bag: array([ 7.04311255, -8.1986868 , -0.18750695]), platform:platform: array([ 8.79312 , -7.8821  , -0.100635,  0.      ,  0.      ]), floor:floor: array([ 0.,  0., -1.]), hammer:tool: array([ 9.76719881, -7.03257006,  0.55398381,  0.        ,  0.        ])}, simulator_state=None)"
     },
     "execution_count": 13,
     "metadata": {},
     "output_type": "execute_result"
    }
   ],
   "source": [
    "test_percept_state"
   ],
   "metadata": {
    "collapsed": false,
    "ExecuteTime": {
     "end_time": "2023-08-16T16:19:57.447912251Z",
     "start_time": "2023-08-16T16:19:57.434511274Z"
    }
   },
   "id": "48c7cd44ac6ab5df"
  },
  {
   "cell_type": "code",
   "execution_count": 14,
   "outputs": [
    {
     "data": {
      "text/plain": "State(data=State(data={spot:robot: array([ 0.44565201,  0.        ,  6.70585622, -7.36947448,  0.13771875,\n        1.53304761]), tool_room_table:flat_surface: array([ 6.63041 , -6.35143 ,  0.179613]), extra_room_table:flat_surface: array([ 8.27387  , -6.23233  , -0.0678132]), low_wall_rack:flat_surface: array([10.0499312 , -6.94431707,  0.27881269]), high_wall_rack:flat_surface: array([10.0499312 , -6.94431707,  0.75788127]), bucket:bag: array([ 7.04311255, -8.1986868 , -0.18750695]), platform:platform: array([ 8.79312 , -7.8821  , -0.100635,  0.      ,  0.      ]), floor:floor: array([ 0.,  0., -1.]), hammer:tool: array([ 9.76719881, -7.03257006,  0.55398381,  0.        ,  0.        ])}, simulator_state=None), simulator_state=None)"
     },
     "execution_count": 14,
     "metadata": {},
     "output_type": "execute_result"
    }
   ],
   "source": [
    "test_state"
   ],
   "metadata": {
    "collapsed": false,
    "ExecuteTime": {
     "end_time": "2023-08-16T16:19:57.640860237Z",
     "start_time": "2023-08-16T16:19:57.621196052Z"
    }
   },
   "id": "ccb476cc5596aafe"
  },
  {
   "cell_type": "code",
   "execution_count": 14,
   "outputs": [],
   "source": [],
   "metadata": {
    "collapsed": false,
    "ExecuteTime": {
     "end_time": "2023-08-16T16:19:57.786700797Z",
     "start_time": "2023-08-16T16:19:57.784680830Z"
    }
   },
   "id": "53851dedaae59707"
  },
  {
   "cell_type": "code",
   "execution_count": 15,
   "outputs": [
    {
     "data": {
      "text/plain": "State(data={spot:robot: array([ 0.44565201,  0.        ,  6.70585622, -7.36947448,  0.13771875,\n        1.53304761]), tool_room_table:flat_surface: array([ 6.63041 , -6.35143 ,  0.179613]), extra_room_table:flat_surface: array([ 8.27387  , -6.23233  , -0.0678132]), low_wall_rack:flat_surface: array([10.0499312 , -6.94431707,  0.27881269]), high_wall_rack:flat_surface: array([10.0499312 , -6.94431707,  0.75788127]), bucket:bag: array([ 7.04311255, -8.1986868 , -0.18750695]), platform:platform: array([ 8.79312 , -7.8821  , -0.100635,  0.      ,  0.      ]), floor:floor: array([ 0.,  0., -1.]), hammer:tool: array([ 9.76719881, -7.03257006,  0.55398381,  0.        ,  0.        ])}, simulator_state=None)"
     },
     "execution_count": 15,
     "metadata": {},
     "output_type": "execute_result"
    }
   ],
   "source": [
    "test_state.data"
   ],
   "metadata": {
    "collapsed": false,
    "ExecuteTime": {
     "end_time": "2023-08-16T16:19:58.242440515Z",
     "start_time": "2023-08-16T16:19:58.230025076Z"
    }
   },
   "id": "db622245db5bd9e5"
  },
  {
   "cell_type": "code",
   "execution_count": 15,
   "outputs": [],
   "source": [],
   "metadata": {
    "collapsed": false,
    "ExecuteTime": {
     "end_time": "2023-08-16T16:19:58.738274488Z",
     "start_time": "2023-08-16T16:19:58.735587113Z"
    }
   },
   "id": "36cc56f7b75302f1"
  },
  {
   "cell_type": "markdown",
   "source": [
    "# load object locations"
   ],
   "metadata": {
    "collapsed": false
   },
   "id": "19c1e753b15c870e"
  },
  {
   "cell_type": "code",
   "execution_count": 17,
   "outputs": [
    {
     "data": {
      "text/plain": "dict_keys([spot:robot, tool_room_table:flat_surface, extra_room_table:flat_surface, low_wall_rack:flat_surface, high_wall_rack:flat_surface, bucket:bag, platform:platform, floor:floor, hammer:tool])"
     },
     "execution_count": 17,
     "metadata": {},
     "output_type": "execute_result"
    }
   ],
   "source": [
    "test_state_dict.keys()"
   ],
   "metadata": {
    "collapsed": false,
    "ExecuteTime": {
     "end_time": "2023-08-16T16:20:08.615687172Z",
     "start_time": "2023-08-16T16:20:08.600400675Z"
    }
   },
   "id": "12bfbf90614e801a"
  },
  {
   "cell_type": "code",
   "execution_count": 19,
   "outputs": [
    {
     "name": "stdout",
     "output_type": "stream",
     "text": [
      "spot:robot 6.7058562186811645 -7.369474475270126 0.13771875358859098\n",
      "tool_room_table:flat_surface 6.63041 -6.35143 0.179613\n",
      "extra_room_table:flat_surface 8.27387 -6.23233 -0.0678132\n",
      "low_wall_rack:flat_surface 10.049931203338616 -6.9443170697742 0.27881268568327966\n",
      "high_wall_rack:flat_surface 10.049931203338616 -6.9443170697742 0.7578812685683279\n",
      "bucket:bag 7.043112552148553 -8.198686802340527 -0.18750694527153725\n",
      "platform:platform 8.79312 -7.8821 -0.100635\n",
      "floor:floor 0.0 0.0 -1.0\n",
      "hammer:tool 9.767198813801544 -7.032570056485618 0.5539838064466492\n"
     ]
    }
   ],
   "source": [
    "for obj, value in test_state_dict.items():\n",
    "    print(obj, value['x'], value['y'], value['z'])"
   ],
   "metadata": {
    "collapsed": false,
    "ExecuteTime": {
     "end_time": "2023-08-16T16:20:46.733652806Z",
     "start_time": "2023-08-16T16:20:46.680420675Z"
    }
   },
   "id": "4946365a02c43c27"
  },
  {
   "cell_type": "code",
   "execution_count": null,
   "outputs": [],
   "source": [
    "spot_name2urdfs = {\n",
    "    \"spot:robot\": [\"spot_description/spot_base.urdf\", \"spot_description/spot_arm.urdf\"],\n",
    "    \"tool_room_table:flat_surface\": [\"urdfs/table/table.urdf\"],\n",
    "    \"extra_room_table:flat_surface\": [\"urdfs/table/table.urdf\"],\n",
    "    \"low_wall_rack:flat_surface\": [],  # TODO find one or skip for now\n",
    "    \"high_wall_rack:flat_surface\": [],  # TODO find one or skip for now\n",
    "    \"bucket:bag\": [],  # TODO find a random one\n",
    "    \"platform:platform\": [],  # TODO find a random one\n",
    "    \"floor:floor\": [\"plane.urdf\"],\n",
    "    \"hammer:tool\": [],  # TODO find a hammer\n",
    "    # TODO to find more tools\n",
    "}"
   ],
   "metadata": {
    "collapsed": false
   },
   "id": "d6cc5bfda53142ef"
  },
  {
   "cell_type": "code",
   "execution_count": null,
   "outputs": [],
   "source": [],
   "metadata": {
    "collapsed": false
   },
   "id": "1edf8631b3d5eb4"
  },
  {
   "cell_type": "code",
   "execution_count": null,
   "outputs": [],
   "source": [],
   "metadata": {
    "collapsed": false
   },
   "id": "94934222d9ab4291"
  },
  {
   "cell_type": "code",
   "execution_count": null,
   "outputs": [],
   "source": [],
   "metadata": {
    "collapsed": false
   },
   "id": "d339a1c6e4d535e2"
  },
  {
   "cell_type": "markdown",
   "source": [
    "# test pybullet"
   ],
   "metadata": {
    "collapsed": false
   },
   "id": "cf885d3b5a5d3248"
  },
  {
   "cell_type": "code",
   "execution_count": 1,
   "outputs": [
    {
     "name": "stderr",
     "output_type": "stream",
     "text": [
      "pybullet build time: Apr  5 2023 14:14:33\n"
     ]
    }
   ],
   "source": [
    "import pybullet as p\n",
    "import pybullet_data\n",
    "import time"
   ],
   "metadata": {
    "collapsed": false,
    "ExecuteTime": {
     "end_time": "2023-08-16T16:34:39.804497173Z",
     "start_time": "2023-08-16T16:34:39.684966963Z"
    }
   },
   "id": "5e0b19de4c36d141"
  },
  {
   "cell_type": "code",
   "execution_count": null,
   "outputs": [],
   "source": [
    "physicsClient = p.connect(p.GUI)  # or p.DIRECT for non-graphical version\n",
    "p.setGravity(0, 0, -10)\n",
    "\n",
    "# Load Spot URDFs\n",
    "spotStartPos = [0, 0, 1]\n",
    "spotStartOrientation = p.getQuaternionFromEuler([0, 0, 0])\n",
    "spotId = p.loadURDF(\"spot_description/spot_base.urdf\", spotStartPos, spotStartOrientation)\n",
    "\n",
    "spotArmStartPos = [0, 0, 1]\n",
    "spotArmStartOrientation = p.getQuaternionFromEuler([0, 0, 0])\n",
    "spotArmId = p.loadURDF(\"spot_description/spot_arm.urdf\", spotArmStartPos, spotArmStartOrientation)\n",
    "\n",
    "tableStartPos = [2, 0, 0]\n",
    "tableStartOrientation = p.getQuaternionFromEuler([0, 0, 0])\n",
    "tableId = p.loadURDF(\"urdfs/table/table.urdf\", tableStartPos, tableStartOrientation)\n",
    "\n",
    "# Load Other URDFs\n",
    "p.setAdditionalSearchPath(pybullet_data.getDataPath())  # used by loadURDF\n",
    "floorId = p.loadURDF(\"plane.urdf\")\n",
    "\n",
    "# Start Sim\n",
    "p.stepSimulation()\n",
    "spotPos, spotOrn = p.getBasePositionAndOrientation(spotArmId)\n",
    "print(spotPos, spotOrn)\n",
    "\n",
    "# input()\n",
    "# p.disconnect()\n"
   ],
   "metadata": {
    "collapsed": false
   },
   "id": "d293f989665078ec"
  },
  {
   "cell_type": "code",
   "execution_count": null,
   "outputs": [],
   "source": [],
   "metadata": {
    "collapsed": false,
    "ExecuteTime": {
     "end_time": "2023-08-16T16:34:38.211796933Z",
     "start_time": "2023-08-16T16:34:38.172274453Z"
    }
   },
   "id": "b0813e6d322a1239"
  },
  {
   "cell_type": "code",
   "execution_count": null,
   "outputs": [],
   "source": [],
   "metadata": {
    "collapsed": false
   },
   "id": "31ae6b86014bab5c"
  },
  {
   "cell_type": "markdown",
   "source": [
    "# populate objects to simulator"
   ],
   "metadata": {
    "collapsed": false
   },
   "id": "fe4ec578e95277a"
  },
  {
   "cell_type": "code",
   "execution_count": 2,
   "outputs": [],
   "source": [
    "from collections import defaultdict"
   ],
   "metadata": {
    "collapsed": false,
    "ExecuteTime": {
     "end_time": "2023-08-16T16:41:08.664175897Z",
     "start_time": "2023-08-16T16:41:08.609198646Z"
    }
   },
   "id": "e26c0be9b7a4946b"
  },
  {
   "cell_type": "code",
   "execution_count": 3,
   "outputs": [
    {
     "ename": "NameError",
     "evalue": "name 'test_state_dict' is not defined",
     "output_type": "error",
     "traceback": [
      "\u001B[0;31m---------------------------------------------------------------------------\u001B[0m",
      "\u001B[0;31mNameError\u001B[0m                                 Traceback (most recent call last)",
      "Cell \u001B[0;32mIn[3], line 3\u001B[0m\n\u001B[1;32m      1\u001B[0m name2id \u001B[38;5;241m=\u001B[39m defaultdict(\u001B[38;5;28mdict\u001B[39m)\n\u001B[0;32m----> 3\u001B[0m \u001B[38;5;28;01mfor\u001B[39;00m obj, value \u001B[38;5;129;01min\u001B[39;00m \u001B[43mtest_state_dict\u001B[49m\u001B[38;5;241m.\u001B[39mitems():\n\u001B[1;32m      4\u001B[0m     \u001B[38;5;28mprint\u001B[39m(obj, value[\u001B[38;5;124m'\u001B[39m\u001B[38;5;124mx\u001B[39m\u001B[38;5;124m'\u001B[39m], value[\u001B[38;5;124m'\u001B[39m\u001B[38;5;124my\u001B[39m\u001B[38;5;124m'\u001B[39m], value[\u001B[38;5;124m'\u001B[39m\u001B[38;5;124mz\u001B[39m\u001B[38;5;124m'\u001B[39m])\n\u001B[1;32m      6\u001B[0m     urdf_list \u001B[38;5;241m=\u001B[39m spot_name2urdfs[obj]\n",
      "\u001B[0;31mNameError\u001B[0m: name 'test_state_dict' is not defined"
     ]
    }
   ],
   "source": [
    "name2id = defaultdict(dict)\n",
    "\n",
    "for obj, value in test_state_dict.items():\n",
    "    print(obj, value['x'], value['y'], value['z'])\n",
    "\n",
    "    urdf_list = spot_name2urdfs[obj]\n",
    "    for urdf in urdf_list:\n",
    "        pos = [value['x'], value['y'], value['z']]\n",
    "        orientation = p.getQuaternionFromEuler([0., 0., 0.])  # TODO no orientation available        \n",
    "        \n",
    "        obj_id = p.loadURDF(urdf, pos, orientation)\n",
    "        name2id[obj].append(obj_id)"
   ],
   "metadata": {
    "collapsed": false,
    "ExecuteTime": {
     "end_time": "2023-08-16T16:41:38.993407088Z",
     "start_time": "2023-08-16T16:41:38.948944258Z"
    }
   },
   "id": "e9539adec6870d89"
  },
  {
   "cell_type": "code",
   "execution_count": null,
   "outputs": [],
   "source": [],
   "metadata": {
    "collapsed": false
   },
   "id": "f7dc525141381755"
  }
 ],
 "metadata": {
  "kernelspec": {
   "display_name": "Python 3",
   "language": "python",
   "name": "python3"
  },
  "language_info": {
   "codemirror_mode": {
    "name": "ipython",
    "version": 2
   },
   "file_extension": ".py",
   "mimetype": "text/x-python",
   "name": "python",
   "nbconvert_exporter": "python",
   "pygments_lexer": "ipython2",
   "version": "2.7.6"
  }
 },
 "nbformat": 4,
 "nbformat_minor": 5
}
