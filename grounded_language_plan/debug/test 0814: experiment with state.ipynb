{
 "cells": [
  {
   "cell_type": "code",
   "execution_count": 1,
   "id": "initial_id",
   "metadata": {
    "collapsed": true,
    "ExecuteTime": {
     "end_time": "2023-08-14T23:40:54.661724130Z",
     "start_time": "2023-08-14T23:40:54.661139605Z"
    }
   },
   "outputs": [],
   "source": [
    "%load_ext autoreload\n",
    "%autoreload 2"
   ]
  },
  {
   "cell_type": "code",
   "execution_count": null,
   "outputs": [],
   "source": [],
   "metadata": {
    "collapsed": false
   },
   "id": "c9512c046f06f68f"
  },
  {
   "cell_type": "code",
   "execution_count": 17,
   "outputs": [
    {
     "data": {
      "text/plain": "'/home/lzhao/repo/predicators/grounded_language_plan/debug'"
     },
     "execution_count": 17,
     "metadata": {},
     "output_type": "execute_result"
    }
   ],
   "source": [
    "%pwd"
   ],
   "metadata": {
    "collapsed": false,
    "ExecuteTime": {
     "end_time": "2023-08-15T00:07:37.559031444Z",
     "start_time": "2023-08-15T00:07:37.542565041Z"
    }
   },
   "id": "a7fe72b381b7e997"
  },
  {
   "cell_type": "markdown",
   "source": [
    "# load state"
   ],
   "metadata": {
    "collapsed": false
   },
   "id": "e912a515310f02c4"
  },
  {
   "cell_type": "code",
   "execution_count": 4,
   "outputs": [],
   "source": [
    "import pickle"
   ],
   "metadata": {
    "collapsed": false,
    "ExecuteTime": {
     "end_time": "2023-08-14T23:41:44.006090887Z",
     "start_time": "2023-08-14T23:41:43.996033061Z"
    }
   },
   "id": "6b491f73ce4d7ff3"
  },
  {
   "cell_type": "code",
   "execution_count": 6,
   "outputs": [],
   "source": [
    "with open('./test_state_dict.pickle', 'rb') as fp:\n",
    "    test_state_dict = pickle.load(fp)"
   ],
   "metadata": {
    "collapsed": false,
    "ExecuteTime": {
     "end_time": "2023-08-14T23:42:09.530978018Z",
     "start_time": "2023-08-14T23:42:09.183835657Z"
    }
   },
   "id": "f4e5b80b1915e97a"
  },
  {
   "cell_type": "code",
   "execution_count": 7,
   "outputs": [
    {
     "data": {
      "text/plain": "{spot:robot: {'gripper_open_percentage': 0.4456520080566406,\n  'curr_held_item_id': 0.0,\n  'x': 6.7058562186811645,\n  'y': -7.369474475270126,\n  'z': 0.13771875358859098,\n  'yaw': 1.533047610889348},\n tool_room_table:flat_surface: {'x': 6.63041, 'y': -6.35143, 'z': 0.179613},\n extra_room_table:flat_surface: {'x': 8.27387, 'y': -6.23233, 'z': -0.0678132},\n low_wall_rack:flat_surface: {'x': 10.049931203338616,\n  'y': -6.9443170697742,\n  'z': 0.27881268568327966},\n high_wall_rack:flat_surface: {'x': 10.049931203338616,\n  'y': -6.9443170697742,\n  'z': 0.7578812685683279},\n bucket:bag: {'x': 7.043112552148553,\n  'y': -8.198686802340527,\n  'z': -0.18750694527153725},\n platform:platform: {'x': 8.79312,\n  'y': -7.8821,\n  'z': -0.100635,\n  'in_view': 0.0,\n  'lost': 0.0},\n floor:floor: {'x': 0.0, 'y': 0.0, 'z': -1.0},\n hammer:tool: {'x': 9.767198813801544,\n  'y': -7.032570056485618,\n  'z': 0.5539838064466492,\n  'in_view': 0.0,\n  'lost': 0.0}}"
     },
     "execution_count": 7,
     "metadata": {},
     "output_type": "execute_result"
    }
   ],
   "source": [
    "test_state_dict"
   ],
   "metadata": {
    "collapsed": false,
    "ExecuteTime": {
     "end_time": "2023-08-14T23:42:15.284503633Z",
     "start_time": "2023-08-14T23:42:15.270832847Z"
    }
   },
   "id": "c7f345c709e89423"
  },
  {
   "cell_type": "code",
   "execution_count": 18,
   "outputs": [],
   "source": [
    "# with open('./test_simulator_state.pickle', 'rb') as fp:\n",
    "#     test_simulator_state = pickle.load(fp)"
   ],
   "metadata": {
    "collapsed": false,
    "ExecuteTime": {
     "end_time": "2023-08-15T00:35:06.845274390Z",
     "start_time": "2023-08-15T00:35:06.801037529Z"
    }
   },
   "id": "e9ec84ac0976881c"
  },
  {
   "cell_type": "code",
   "execution_count": null,
   "outputs": [],
   "source": [],
   "metadata": {
    "collapsed": false
   },
   "id": "2398ef5846a7c6ed"
  },
  {
   "cell_type": "markdown",
   "source": [
    "# init into state"
   ],
   "metadata": {
    "collapsed": false
   },
   "id": "6626306f0722430e"
  },
  {
   "cell_type": "code",
   "execution_count": 10,
   "outputs": [
    {
     "name": "stderr",
     "output_type": "stream",
     "text": [
      "pybullet build time: Apr  5 2023 14:14:33\n"
     ]
    }
   ],
   "source": [
    "from predicators.utils import create_state_from_dict"
   ],
   "metadata": {
    "collapsed": false,
    "ExecuteTime": {
     "end_time": "2023-08-14T23:42:57.844543707Z",
     "start_time": "2023-08-14T23:42:57.474341729Z"
    }
   },
   "id": "76d9a304f6954e23"
  },
  {
   "cell_type": "code",
   "execution_count": 19,
   "outputs": [],
   "source": [
    "from predicators.structs import State"
   ],
   "metadata": {
    "collapsed": false,
    "ExecuteTime": {
     "end_time": "2023-08-15T00:35:33.173503334Z",
     "start_time": "2023-08-15T00:35:33.131303987Z"
    }
   },
   "id": "e94e235464aa9fa3"
  },
  {
   "cell_type": "code",
   "execution_count": 14,
   "outputs": [],
   "source": [
    "test_percept_state = create_state_from_dict(test_state_dict)"
   ],
   "metadata": {
    "collapsed": false,
    "ExecuteTime": {
     "end_time": "2023-08-15T00:03:46.053404262Z",
     "start_time": "2023-08-15T00:03:46.012666535Z"
    }
   },
   "id": "bec65056685fa170"
  },
  {
   "cell_type": "code",
   "execution_count": 22,
   "outputs": [],
   "source": [
    "test_state = State(test_percept_state)"
   ],
   "metadata": {
    "collapsed": false,
    "ExecuteTime": {
     "end_time": "2023-08-15T19:03:55.005745429Z",
     "start_time": "2023-08-15T19:03:54.965039452Z"
    }
   },
   "id": "3f7a7e3f9f315058"
  },
  {
   "cell_type": "code",
   "execution_count": null,
   "outputs": [],
   "source": [
    "# test_simulator_state = "
   ],
   "metadata": {
    "collapsed": false
   },
   "id": "261b4dc71d2c7cfb"
  },
  {
   "cell_type": "code",
   "execution_count": 14,
   "outputs": [],
   "source": [],
   "metadata": {
    "collapsed": false,
    "ExecuteTime": {
     "end_time": "2023-08-15T00:03:46.153334902Z",
     "start_time": "2023-08-15T00:03:46.112421242Z"
    }
   },
   "id": "5742fc37c1102615"
  },
  {
   "cell_type": "markdown",
   "source": [
    "# play with state"
   ],
   "metadata": {
    "collapsed": false
   },
   "id": "d6bc7d7e867c1a26"
  },
  {
   "cell_type": "code",
   "execution_count": 15,
   "outputs": [
    {
     "data": {
      "text/plain": "State(data={spot:robot: array([ 0.44565201,  0.        ,  6.70585622, -7.36947448,  0.13771875,\n        1.53304761]), tool_room_table:flat_surface: array([ 6.63041 , -6.35143 ,  0.179613]), extra_room_table:flat_surface: array([ 8.27387  , -6.23233  , -0.0678132]), low_wall_rack:flat_surface: array([10.0499312 , -6.94431707,  0.27881269]), high_wall_rack:flat_surface: array([10.0499312 , -6.94431707,  0.75788127]), bucket:bag: array([ 7.04311255, -8.1986868 , -0.18750695]), platform:platform: array([ 8.79312 , -7.8821  , -0.100635,  0.      ,  0.      ]), floor:floor: array([ 0.,  0., -1.]), hammer:tool: array([ 9.76719881, -7.03257006,  0.55398381,  0.        ,  0.        ])}, simulator_state=None)"
     },
     "execution_count": 15,
     "metadata": {},
     "output_type": "execute_result"
    }
   ],
   "source": [
    "test_percept_state"
   ],
   "metadata": {
    "collapsed": false,
    "ExecuteTime": {
     "end_time": "2023-08-15T00:03:46.390781370Z",
     "start_time": "2023-08-15T00:03:46.379377457Z"
    }
   },
   "id": "48c7cd44ac6ab5df"
  },
  {
   "cell_type": "code",
   "execution_count": 23,
   "outputs": [
    {
     "data": {
      "text/plain": "State(data=State(data={spot:robot: array([ 0.44565201,  0.        ,  6.70585622, -7.36947448,  0.13771875,\n        1.53304761]), tool_room_table:flat_surface: array([ 6.63041 , -6.35143 ,  0.179613]), extra_room_table:flat_surface: array([ 8.27387  , -6.23233  , -0.0678132]), low_wall_rack:flat_surface: array([10.0499312 , -6.94431707,  0.27881269]), high_wall_rack:flat_surface: array([10.0499312 , -6.94431707,  0.75788127]), bucket:bag: array([ 7.04311255, -8.1986868 , -0.18750695]), platform:platform: array([ 8.79312 , -7.8821  , -0.100635,  0.      ,  0.      ]), floor:floor: array([ 0.,  0., -1.]), hammer:tool: array([ 9.76719881, -7.03257006,  0.55398381,  0.        ,  0.        ])}, simulator_state=None), simulator_state=None)"
     },
     "execution_count": 23,
     "metadata": {},
     "output_type": "execute_result"
    }
   ],
   "source": [
    "test_state"
   ],
   "metadata": {
    "collapsed": false,
    "ExecuteTime": {
     "end_time": "2023-08-15T19:03:56.426192911Z",
     "start_time": "2023-08-15T19:03:56.415301793Z"
    }
   },
   "id": "ccb476cc5596aafe"
  },
  {
   "cell_type": "code",
   "execution_count": null,
   "outputs": [],
   "source": [],
   "metadata": {
    "collapsed": false
   },
   "id": "53851dedaae59707"
  },
  {
   "cell_type": "code",
   "execution_count": 25,
   "outputs": [
    {
     "data": {
      "text/plain": "State(data={spot:robot: array([ 0.44565201,  0.        ,  6.70585622, -7.36947448,  0.13771875,\n        1.53304761]), tool_room_table:flat_surface: array([ 6.63041 , -6.35143 ,  0.179613]), extra_room_table:flat_surface: array([ 8.27387  , -6.23233  , -0.0678132]), low_wall_rack:flat_surface: array([10.0499312 , -6.94431707,  0.27881269]), high_wall_rack:flat_surface: array([10.0499312 , -6.94431707,  0.75788127]), bucket:bag: array([ 7.04311255, -8.1986868 , -0.18750695]), platform:platform: array([ 8.79312 , -7.8821  , -0.100635,  0.      ,  0.      ]), floor:floor: array([ 0.,  0., -1.]), hammer:tool: array([ 9.76719881, -7.03257006,  0.55398381,  0.        ,  0.        ])}, simulator_state=None)"
     },
     "execution_count": 25,
     "metadata": {},
     "output_type": "execute_result"
    }
   ],
   "source": [
    "test_state.data"
   ],
   "metadata": {
    "collapsed": false,
    "ExecuteTime": {
     "end_time": "2023-08-15T19:04:12.287905246Z",
     "start_time": "2023-08-15T19:04:12.239110703Z"
    }
   },
   "id": "db622245db5bd9e5"
  },
  {
   "cell_type": "code",
   "execution_count": 34,
   "outputs": [
    {
     "data": {
      "text/plain": "predicators.structs.State"
     },
     "execution_count": 34,
     "metadata": {},
     "output_type": "execute_result"
    }
   ],
   "source": [
    "type(test_state.data)"
   ],
   "metadata": {
    "collapsed": false,
    "ExecuteTime": {
     "end_time": "2023-08-15T19:07:51.993622856Z",
     "start_time": "2023-08-15T19:07:51.957820225Z"
    }
   },
   "id": "beca17b022357219"
  },
  {
   "cell_type": "code",
   "execution_count": 37,
   "outputs": [
    {
     "data": {
      "text/plain": "dict_keys([spot:robot, tool_room_table:flat_surface, extra_room_table:flat_surface, low_wall_rack:flat_surface, high_wall_rack:flat_surface, bucket:bag, platform:platform, floor:floor, hammer:tool])"
     },
     "execution_count": 37,
     "metadata": {},
     "output_type": "execute_result"
    }
   ],
   "source": [
    "test_state.data.data.keys()"
   ],
   "metadata": {
    "collapsed": false,
    "ExecuteTime": {
     "end_time": "2023-08-15T19:08:19.405545617Z",
     "start_time": "2023-08-15T19:08:19.370429681Z"
    }
   },
   "id": "a6a571859afa5e13"
  },
  {
   "cell_type": "code",
   "execution_count": 26,
   "outputs": [
    {
     "data": {
      "text/plain": "[]"
     },
     "execution_count": 26,
     "metadata": {},
     "output_type": "execute_result"
    }
   ],
   "source": [
    "test_state.get_objects('flat_surface')"
   ],
   "metadata": {
    "collapsed": false,
    "ExecuteTime": {
     "end_time": "2023-08-15T19:04:31.393935282Z",
     "start_time": "2023-08-15T19:04:31.350469655Z"
    }
   },
   "id": "1d9f961d560b452f"
  },
  {
   "cell_type": "code",
   "execution_count": 30,
   "outputs": [
    {
     "ename": "KeyError",
     "evalue": "bucket:bag",
     "output_type": "error",
     "traceback": [
      "\u001B[0;31m---------------------------------------------------------------------------\u001B[0m",
      "\u001B[0;31mKeyError\u001B[0m                                  Traceback (most recent call last)",
      "Cell \u001B[0;32mIn[30], line 4\u001B[0m\n\u001B[1;32m      1\u001B[0m \u001B[38;5;28;01mfrom\u001B[39;00m \u001B[38;5;21;01mpredicators\u001B[39;00m\u001B[38;5;21;01m.\u001B[39;00m\u001B[38;5;21;01mstructs\u001B[39;00m \u001B[38;5;28;01mimport\u001B[39;00m Object, Type\n\u001B[1;32m      3\u001B[0m test_type \u001B[38;5;241m=\u001B[39m Type(\u001B[38;5;124m'\u001B[39m\u001B[38;5;124mbag\u001B[39m\u001B[38;5;124m'\u001B[39m, [\u001B[38;5;124m'\u001B[39m\u001B[38;5;124msize\u001B[39m\u001B[38;5;124m'\u001B[39m])\n\u001B[0;32m----> 4\u001B[0m \u001B[43mtest_state\u001B[49m\u001B[38;5;241;43m.\u001B[39;49m\u001B[43mvec\u001B[49m\u001B[43m(\u001B[49m\u001B[43m[\u001B[49m\u001B[43mObject\u001B[49m\u001B[43m(\u001B[49m\u001B[43mname\u001B[49m\u001B[38;5;241;43m=\u001B[39;49m\u001B[38;5;124;43m'\u001B[39;49m\u001B[38;5;124;43mbucket\u001B[39;49m\u001B[38;5;124;43m'\u001B[39;49m\u001B[43m,\u001B[49m\u001B[43m \u001B[49m\u001B[38;5;28;43mtype\u001B[39;49m\u001B[38;5;241;43m=\u001B[39;49m\u001B[43mtest_type\u001B[49m\u001B[43m)\u001B[49m\u001B[43m]\u001B[49m\u001B[43m)\u001B[49m\n",
      "File \u001B[0;32m~/repo/predicators/predicators/structs.py:146\u001B[0m, in \u001B[0;36mState.vec\u001B[0;34m(self, objects)\u001B[0m\n\u001B[1;32m    144\u001B[0m     \u001B[38;5;28;01mreturn\u001B[39;00m np\u001B[38;5;241m.\u001B[39mzeros(\u001B[38;5;241m0\u001B[39m, dtype\u001B[38;5;241m=\u001B[39mnp\u001B[38;5;241m.\u001B[39mfloat32)\n\u001B[1;32m    145\u001B[0m \u001B[38;5;28;01mfor\u001B[39;00m obj \u001B[38;5;129;01min\u001B[39;00m objects:\n\u001B[0;32m--> 146\u001B[0m     feats\u001B[38;5;241m.\u001B[39mappend(\u001B[38;5;28;43mself\u001B[39;49m\u001B[43m[\u001B[49m\u001B[43mobj\u001B[49m\u001B[43m]\u001B[49m)\n\u001B[1;32m    147\u001B[0m \u001B[38;5;28;01mreturn\u001B[39;00m np\u001B[38;5;241m.\u001B[39mhstack(feats)\n",
      "File \u001B[0;32m~/repo/predicators/predicators/structs.py:123\u001B[0m, in \u001B[0;36mState.__getitem__\u001B[0;34m(self, key)\u001B[0m\n\u001B[1;32m    122\u001B[0m \u001B[38;5;28;01mdef\u001B[39;00m \u001B[38;5;21m__getitem__\u001B[39m(\u001B[38;5;28mself\u001B[39m, key: Object) \u001B[38;5;241m-\u001B[39m\u001B[38;5;241m>\u001B[39m Array:\n\u001B[0;32m--> 123\u001B[0m     \u001B[38;5;28;01mreturn\u001B[39;00m \u001B[38;5;28;43mself\u001B[39;49m\u001B[38;5;241;43m.\u001B[39;49m\u001B[43mdata\u001B[49m\u001B[43m[\u001B[49m\u001B[43mkey\u001B[49m\u001B[43m]\u001B[49m\n",
      "File \u001B[0;32m~/repo/predicators/predicators/structs.py:123\u001B[0m, in \u001B[0;36mState.__getitem__\u001B[0;34m(self, key)\u001B[0m\n\u001B[1;32m    122\u001B[0m \u001B[38;5;28;01mdef\u001B[39;00m \u001B[38;5;21m__getitem__\u001B[39m(\u001B[38;5;28mself\u001B[39m, key: Object) \u001B[38;5;241m-\u001B[39m\u001B[38;5;241m>\u001B[39m Array:\n\u001B[0;32m--> 123\u001B[0m     \u001B[38;5;28;01mreturn\u001B[39;00m \u001B[38;5;28;43mself\u001B[39;49m\u001B[38;5;241;43m.\u001B[39;49m\u001B[43mdata\u001B[49m\u001B[43m[\u001B[49m\u001B[43mkey\u001B[49m\u001B[43m]\u001B[49m\n",
      "\u001B[0;31mKeyError\u001B[0m: bucket:bag"
     ]
    }
   ],
   "source": [
    "from predicators.structs import Object, Type\n",
    "\n",
    "# test_type = Type('bag', ['size'])\n",
    "# test_state.vec([Object(name='bucket', type=test_type)])"
   ],
   "metadata": {
    "collapsed": false,
    "ExecuteTime": {
     "end_time": "2023-08-15T19:07:03.086744624Z",
     "start_time": "2023-08-15T19:07:03.041919318Z"
    }
   },
   "id": "5dd4cd4f9da288b0"
  },
  {
   "cell_type": "code",
   "execution_count": null,
   "outputs": [],
   "source": [],
   "metadata": {
    "collapsed": false
   },
   "id": "4946365a02c43c27"
  }
 ],
 "metadata": {
  "kernelspec": {
   "display_name": "Python 3",
   "language": "python",
   "name": "python3"
  },
  "language_info": {
   "codemirror_mode": {
    "name": "ipython",
    "version": 2
   },
   "file_extension": ".py",
   "mimetype": "text/x-python",
   "name": "python",
   "nbconvert_exporter": "python",
   "pygments_lexer": "ipython2",
   "version": "2.7.6"
  }
 },
 "nbformat": 4,
 "nbformat_minor": 5
}
